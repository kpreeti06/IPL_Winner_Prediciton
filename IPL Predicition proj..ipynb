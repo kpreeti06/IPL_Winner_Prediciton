{
 "cells": [
  {
   "cell_type": "code",
   "execution_count": 1,
   "id": "4863ffdf",
   "metadata": {},
   "outputs": [],
   "source": [
    "import numpy as np # linear algebra\n",
    "import pandas as pd # data processing, CSV file I/O (e.g. pd.read_csv)\n",
    "# import os\n",
    "# for dirname, _, filenames in os.walk('/kaggle/input'):\n",
    "#     for filename in filenames:\n",
    "#         print(os.path.join(dirname, filename))\n",
    "import warnings\n",
    "\n",
    "# Ignore all warnings\n",
    "warnings.filterwarnings(\"ignore\")"
   ]
  },
  {
   "cell_type": "markdown",
   "id": "0bb7c03c",
   "metadata": {},
   "source": [
    "# Data Preparation and Cleaning"
   ]
  },
  {
   "cell_type": "markdown",
   "id": "68e86663",
   "metadata": {},
   "source": [
    "Let’s start by reading the csv file to Pandas DataFrame."
   ]
  },
  {
   "cell_type": "code",
   "execution_count": 2,
   "id": "42369eb7",
   "metadata": {},
   "outputs": [
    {
     "data": {
      "text/html": [
       "<div>\n",
       "<style scoped>\n",
       "    .dataframe tbody tr th:only-of-type {\n",
       "        vertical-align: middle;\n",
       "    }\n",
       "\n",
       "    .dataframe tbody tr th {\n",
       "        vertical-align: top;\n",
       "    }\n",
       "\n",
       "    .dataframe thead th {\n",
       "        text-align: right;\n",
       "    }\n",
       "</style>\n",
       "<table border=\"1\" class=\"dataframe\">\n",
       "  <thead>\n",
       "    <tr style=\"text-align: right;\">\n",
       "      <th></th>\n",
       "      <th>id</th>\n",
       "      <th>Season</th>\n",
       "      <th>City</th>\n",
       "      <th>date</th>\n",
       "      <th>team1</th>\n",
       "      <th>team2</th>\n",
       "      <th>TossWin</th>\n",
       "      <th>TossDecision</th>\n",
       "      <th>result</th>\n",
       "      <th>dl_applied</th>\n",
       "      <th>WinningTeam</th>\n",
       "      <th>win_by_runs</th>\n",
       "      <th>win_by_wickets</th>\n",
       "      <th>Player_of_Match</th>\n",
       "      <th>Venue</th>\n",
       "      <th>umpire1</th>\n",
       "      <th>umpire2</th>\n",
       "      <th>umpire3</th>\n",
       "    </tr>\n",
       "  </thead>\n",
       "  <tbody>\n",
       "    <tr>\n",
       "      <th>0</th>\n",
       "      <td>1</td>\n",
       "      <td>2017</td>\n",
       "      <td>Hyderabad</td>\n",
       "      <td>05-04-2017</td>\n",
       "      <td>Sunrisers Hyderabad</td>\n",
       "      <td>Royal Challengers Bangalore</td>\n",
       "      <td>Royal Challengers Bangalore</td>\n",
       "      <td>field</td>\n",
       "      <td>normal</td>\n",
       "      <td>0</td>\n",
       "      <td>Sunrisers Hyderabad</td>\n",
       "      <td>35</td>\n",
       "      <td>0</td>\n",
       "      <td>Yuvraj Singh</td>\n",
       "      <td>Rajiv Gandhi International Stadium, Uppal</td>\n",
       "      <td>AY Dandekar</td>\n",
       "      <td>NJ Llong</td>\n",
       "      <td>NaN</td>\n",
       "    </tr>\n",
       "    <tr>\n",
       "      <th>1</th>\n",
       "      <td>2</td>\n",
       "      <td>2017</td>\n",
       "      <td>Pune</td>\n",
       "      <td>06-04-2017</td>\n",
       "      <td>Mumbai Indians</td>\n",
       "      <td>Rising Pune Supergiant</td>\n",
       "      <td>Rising Pune Supergiant</td>\n",
       "      <td>field</td>\n",
       "      <td>normal</td>\n",
       "      <td>0</td>\n",
       "      <td>Rising Pune Supergiant</td>\n",
       "      <td>0</td>\n",
       "      <td>7</td>\n",
       "      <td>SPD Smith</td>\n",
       "      <td>Maharashtra Cricket Association Stadium</td>\n",
       "      <td>A Nand Kishore</td>\n",
       "      <td>S Ravi</td>\n",
       "      <td>NaN</td>\n",
       "    </tr>\n",
       "    <tr>\n",
       "      <th>2</th>\n",
       "      <td>3</td>\n",
       "      <td>2017</td>\n",
       "      <td>Rajkot</td>\n",
       "      <td>07-04-2017</td>\n",
       "      <td>Gujarat Lions</td>\n",
       "      <td>Kolkata Knight Riders</td>\n",
       "      <td>Kolkata Knight Riders</td>\n",
       "      <td>field</td>\n",
       "      <td>normal</td>\n",
       "      <td>0</td>\n",
       "      <td>Kolkata Knight Riders</td>\n",
       "      <td>0</td>\n",
       "      <td>10</td>\n",
       "      <td>CA Lynn</td>\n",
       "      <td>Saurashtra Cricket Association Stadium</td>\n",
       "      <td>Nitin Menon</td>\n",
       "      <td>CK Nandan</td>\n",
       "      <td>NaN</td>\n",
       "    </tr>\n",
       "    <tr>\n",
       "      <th>3</th>\n",
       "      <td>4</td>\n",
       "      <td>2017</td>\n",
       "      <td>Indore</td>\n",
       "      <td>08-04-2017</td>\n",
       "      <td>Rising Pune Supergiant</td>\n",
       "      <td>Kings XI Punjab</td>\n",
       "      <td>Kings XI Punjab</td>\n",
       "      <td>field</td>\n",
       "      <td>normal</td>\n",
       "      <td>0</td>\n",
       "      <td>Kings XI Punjab</td>\n",
       "      <td>0</td>\n",
       "      <td>6</td>\n",
       "      <td>GJ Maxwell</td>\n",
       "      <td>Holkar Cricket Stadium</td>\n",
       "      <td>AK Chaudhary</td>\n",
       "      <td>C Shamshuddin</td>\n",
       "      <td>NaN</td>\n",
       "    </tr>\n",
       "    <tr>\n",
       "      <th>4</th>\n",
       "      <td>5</td>\n",
       "      <td>2017</td>\n",
       "      <td>Bangalore</td>\n",
       "      <td>08-04-2017</td>\n",
       "      <td>Royal Challengers Bangalore</td>\n",
       "      <td>Delhi Daredevils</td>\n",
       "      <td>Royal Challengers Bangalore</td>\n",
       "      <td>bat</td>\n",
       "      <td>normal</td>\n",
       "      <td>0</td>\n",
       "      <td>Royal Challengers Bangalore</td>\n",
       "      <td>15</td>\n",
       "      <td>0</td>\n",
       "      <td>KM Jadhav</td>\n",
       "      <td>M Chinnaswamy Stadium</td>\n",
       "      <td>NaN</td>\n",
       "      <td>NaN</td>\n",
       "      <td>NaN</td>\n",
       "    </tr>\n",
       "  </tbody>\n",
       "</table>\n",
       "</div>"
      ],
      "text/plain": [
       "   id  Season       City        date                        team1  \\\n",
       "0   1    2017  Hyderabad  05-04-2017          Sunrisers Hyderabad   \n",
       "1   2    2017       Pune  06-04-2017               Mumbai Indians   \n",
       "2   3    2017     Rajkot  07-04-2017                Gujarat Lions   \n",
       "3   4    2017     Indore  08-04-2017       Rising Pune Supergiant   \n",
       "4   5    2017  Bangalore  08-04-2017  Royal Challengers Bangalore   \n",
       "\n",
       "                         team2                      TossWin TossDecision  \\\n",
       "0  Royal Challengers Bangalore  Royal Challengers Bangalore        field   \n",
       "1       Rising Pune Supergiant       Rising Pune Supergiant        field   \n",
       "2        Kolkata Knight Riders        Kolkata Knight Riders        field   \n",
       "3              Kings XI Punjab              Kings XI Punjab        field   \n",
       "4             Delhi Daredevils  Royal Challengers Bangalore          bat   \n",
       "\n",
       "   result  dl_applied                  WinningTeam  win_by_runs  \\\n",
       "0  normal           0          Sunrisers Hyderabad           35   \n",
       "1  normal           0       Rising Pune Supergiant            0   \n",
       "2  normal           0        Kolkata Knight Riders            0   \n",
       "3  normal           0              Kings XI Punjab            0   \n",
       "4  normal           0  Royal Challengers Bangalore           15   \n",
       "\n",
       "   win_by_wickets Player_of_Match                                      Venue  \\\n",
       "0               0    Yuvraj Singh  Rajiv Gandhi International Stadium, Uppal   \n",
       "1               7       SPD Smith    Maharashtra Cricket Association Stadium   \n",
       "2              10         CA Lynn     Saurashtra Cricket Association Stadium   \n",
       "3               6      GJ Maxwell                     Holkar Cricket Stadium   \n",
       "4               0       KM Jadhav                      M Chinnaswamy Stadium   \n",
       "\n",
       "          umpire1        umpire2 umpire3  \n",
       "0     AY Dandekar       NJ Llong     NaN  \n",
       "1  A Nand Kishore         S Ravi     NaN  \n",
       "2     Nitin Menon      CK Nandan     NaN  \n",
       "3    AK Chaudhary  C Shamshuddin     NaN  \n",
       "4             NaN            NaN     NaN  "
      ]
     },
     "execution_count": 2,
     "metadata": {},
     "output_type": "execute_result"
    }
   ],
   "source": [
    "matches=pd.read_csv(\"C:\\\\Users\\\\Preeti\\\\Downloads\\\\matches _2008_2020.csv\")\n",
    "matches.head()"
   ]
  },
  {
   "cell_type": "code",
   "execution_count": 3,
   "id": "8a9460a8",
   "metadata": {},
   "outputs": [
    {
     "data": {
      "text/plain": [
       "(816, 18)"
      ]
     },
     "execution_count": 3,
     "metadata": {},
     "output_type": "execute_result"
    }
   ],
   "source": [
    "matches.shape"
   ]
  },
  {
   "cell_type": "markdown",
   "id": "46b741ea",
   "metadata": {},
   "source": [
    "So there are 816 rows and 18 columns. 816 rows imply that there were 816 IPL matches held between 2008 and 2020."
   ]
  },
  {
   "cell_type": "markdown",
   "id": "01be9b17",
   "metadata": {},
   "source": [
    "# The dataset has 18 columns. Let’s get acquainted with the columns."
   ]
  },
  {
   "cell_type": "markdown",
   "id": "62624dbe",
   "metadata": {},
   "source": [
    "id: The IPL match id.\n",
    "\n",
    "Season: The IPL season\n",
    "\n",
    "City: The city where the IPL match was held.\n",
    "\n",
    "date: The date on which the match was held.\n",
    "\n",
    "team1: One of the teams of the IPL match\n",
    "\n",
    "team2: The other team of the IPL match\n",
    "\n",
    "TossWin: The team that won the toss\n",
    "\n",
    "TossDecision: The decision taken by the team that won the toss to ‘bat’ or ‘field’\n",
    "\n",
    "result: The result(‘normal’, ‘tie’, ‘no result’) of the match.\n",
    "\n",
    "dl_applied: (1 or 0)indicates whether the Duckworth-Lewis rule was applied or not.\n",
    "\n",
    "WinningTeam: The winner of the match.\n",
    "\n",
    "win_by_runs: Provides the runs by which the team batting first won\n",
    "\n",
    "win_by_runs: Provides the number of wickets by which the team batting second won.\n",
    "\n",
    "Player_of_Match: The outstanding player of the match.\n",
    "\n",
    "Venue: The venue where the match was hosted.\n",
    "\n",
    "umpire1: One of the two on-field umpires who officiate the match.\n",
    "\n",
    "umpire2: One of the two on-field umpires who officiate the match.\n",
    "\n",
    "umpire3: The off-field umpire who officiates the match"
   ]
  },
  {
   "cell_type": "code",
   "execution_count": 4,
   "id": "e6e735c9",
   "metadata": {
    "scrolled": true
   },
   "outputs": [
    {
     "data": {
      "text/plain": [
       "id                   0\n",
       "Season               0\n",
       "City                45\n",
       "date                 0\n",
       "team1                0\n",
       "team2                0\n",
       "TossWin              0\n",
       "TossDecision         0\n",
       "result               0\n",
       "dl_applied           0\n",
       "WinningTeam          4\n",
       "win_by_runs          0\n",
       "win_by_wickets       0\n",
       "Player_of_Match      4\n",
       "Venue                0\n",
       "umpire1              2\n",
       "umpire2              2\n",
       "umpire3            697\n",
       "dtype: int64"
      ]
     },
     "execution_count": 4,
     "metadata": {},
     "output_type": "execute_result"
    }
   ],
   "source": [
    "#checking null values\n",
    "matches.isnull().sum()"
   ]
  },
  {
   "cell_type": "markdown",
   "id": "721aacb3",
   "metadata": {},
   "source": [
    "It’s imperative to know the count of NaN values for each column before we proceed further.The column ‘umpire3’ has a significant number of NaN values. As the off-field umpire parameter is insignificant, we can drop this column. The other columns that have Nan values are of type object(Pandas equivalent of Python String data type) and are very few in number."
   ]
  },
  {
   "cell_type": "code",
   "execution_count": 5,
   "id": "22b17c68",
   "metadata": {},
   "outputs": [
    {
     "data": {
      "text/html": [
       "<div>\n",
       "<style scoped>\n",
       "    .dataframe tbody tr th:only-of-type {\n",
       "        vertical-align: middle;\n",
       "    }\n",
       "\n",
       "    .dataframe tbody tr th {\n",
       "        vertical-align: top;\n",
       "    }\n",
       "\n",
       "    .dataframe thead th {\n",
       "        text-align: right;\n",
       "    }\n",
       "</style>\n",
       "<table border=\"1\" class=\"dataframe\">\n",
       "  <thead>\n",
       "    <tr style=\"text-align: right;\">\n",
       "      <th></th>\n",
       "      <th>id</th>\n",
       "      <th>Season</th>\n",
       "      <th>dl_applied</th>\n",
       "      <th>win_by_runs</th>\n",
       "      <th>win_by_wickets</th>\n",
       "    </tr>\n",
       "  </thead>\n",
       "  <tbody>\n",
       "    <tr>\n",
       "      <th>count</th>\n",
       "      <td>816.000000</td>\n",
       "      <td>816.000000</td>\n",
       "      <td>816.000000</td>\n",
       "      <td>816.000000</td>\n",
       "      <td>816.000000</td>\n",
       "    </tr>\n",
       "    <tr>\n",
       "      <th>mean</th>\n",
       "      <td>2501.981618</td>\n",
       "      <td>2013.926471</td>\n",
       "      <td>0.023284</td>\n",
       "      <td>13.580882</td>\n",
       "      <td>3.356618</td>\n",
       "    </tr>\n",
       "    <tr>\n",
       "      <th>std</th>\n",
       "      <td>4180.302500</td>\n",
       "      <td>3.665054</td>\n",
       "      <td>0.150898</td>\n",
       "      <td>23.604374</td>\n",
       "      <td>3.415810</td>\n",
       "    </tr>\n",
       "    <tr>\n",
       "      <th>min</th>\n",
       "      <td>1.000000</td>\n",
       "      <td>2008.000000</td>\n",
       "      <td>0.000000</td>\n",
       "      <td>0.000000</td>\n",
       "      <td>0.000000</td>\n",
       "    </tr>\n",
       "    <tr>\n",
       "      <th>25%</th>\n",
       "      <td>204.750000</td>\n",
       "      <td>2011.000000</td>\n",
       "      <td>0.000000</td>\n",
       "      <td>0.000000</td>\n",
       "      <td>0.000000</td>\n",
       "    </tr>\n",
       "    <tr>\n",
       "      <th>50%</th>\n",
       "      <td>408.500000</td>\n",
       "      <td>2014.000000</td>\n",
       "      <td>0.000000</td>\n",
       "      <td>0.000000</td>\n",
       "      <td>3.500000</td>\n",
       "    </tr>\n",
       "    <tr>\n",
       "      <th>75%</th>\n",
       "      <td>612.250000</td>\n",
       "      <td>2017.000000</td>\n",
       "      <td>0.000000</td>\n",
       "      <td>19.000000</td>\n",
       "      <td>6.000000</td>\n",
       "    </tr>\n",
       "    <tr>\n",
       "      <th>max</th>\n",
       "      <td>11475.000000</td>\n",
       "      <td>2020.000000</td>\n",
       "      <td>1.000000</td>\n",
       "      <td>146.000000</td>\n",
       "      <td>10.000000</td>\n",
       "    </tr>\n",
       "  </tbody>\n",
       "</table>\n",
       "</div>"
      ],
      "text/plain": [
       "                 id       Season  dl_applied  win_by_runs  win_by_wickets\n",
       "count    816.000000   816.000000  816.000000   816.000000      816.000000\n",
       "mean    2501.981618  2013.926471    0.023284    13.580882        3.356618\n",
       "std     4180.302500     3.665054    0.150898    23.604374        3.415810\n",
       "min        1.000000  2008.000000    0.000000     0.000000        0.000000\n",
       "25%      204.750000  2011.000000    0.000000     0.000000        0.000000\n",
       "50%      408.500000  2014.000000    0.000000     0.000000        3.500000\n",
       "75%      612.250000  2017.000000    0.000000    19.000000        6.000000\n",
       "max    11475.000000  2020.000000    1.000000   146.000000       10.000000"
      ]
     },
     "execution_count": 5,
     "metadata": {},
     "output_type": "execute_result"
    }
   ],
   "source": [
    "matches.describe()"
   ]
  },
  {
   "cell_type": "code",
   "execution_count": 6,
   "id": "b2969ce8",
   "metadata": {},
   "outputs": [
    {
     "name": "stdout",
     "output_type": "stream",
     "text": [
      "<class 'pandas.core.frame.DataFrame'>\n",
      "RangeIndex: 816 entries, 0 to 815\n",
      "Data columns (total 18 columns):\n",
      " #   Column           Non-Null Count  Dtype \n",
      "---  ------           --------------  ----- \n",
      " 0   id               816 non-null    int64 \n",
      " 1   Season           816 non-null    int64 \n",
      " 2   City             771 non-null    object\n",
      " 3   date             816 non-null    object\n",
      " 4   team1            816 non-null    object\n",
      " 5   team2            816 non-null    object\n",
      " 6   TossWin          816 non-null    object\n",
      " 7   TossDecision     816 non-null    object\n",
      " 8   result           816 non-null    object\n",
      " 9   dl_applied       816 non-null    int64 \n",
      " 10  WinningTeam      812 non-null    object\n",
      " 11  win_by_runs      816 non-null    int64 \n",
      " 12  win_by_wickets   816 non-null    int64 \n",
      " 13  Player_of_Match  812 non-null    object\n",
      " 14  Venue            816 non-null    object\n",
      " 15  umpire1          814 non-null    object\n",
      " 16  umpire2          814 non-null    object\n",
      " 17  umpire3          119 non-null    object\n",
      "dtypes: int64(5), object(13)\n",
      "memory usage: 114.9+ KB\n"
     ]
    }
   ],
   "source": [
    "matches.info()\n"
   ]
  },
  {
   "cell_type": "code",
   "execution_count": 7,
   "id": "13f855f7",
   "metadata": {},
   "outputs": [
    {
     "data": {
      "text/plain": [
       "id                 0\n",
       "Season             0\n",
       "City               0\n",
       "date               0\n",
       "team1              0\n",
       "team2              0\n",
       "TossWin            0\n",
       "TossDecision       0\n",
       "result             0\n",
       "dl_applied         0\n",
       "WinningTeam        0\n",
       "win_by_runs        0\n",
       "win_by_wickets     0\n",
       "Player_of_Match    0\n",
       "Venue              0\n",
       "umpire1            0\n",
       "umpire2            0\n",
       "dtype: int64"
      ]
     },
     "execution_count": 7,
     "metadata": {},
     "output_type": "execute_result"
    }
   ],
   "source": [
    "#filling null values\n",
    "matches['City'].fillna('Mumbai', inplace=True)\n",
    "matches['WinningTeam'].fillna('Draw', inplace=True)\n",
    "matches['umpire2'].fillna('S Ravi', inplace=True)\n",
    "matches['umpire1'].fillna('S Ravi', inplace=True)\n",
    "matches.drop('umpire3',axis=1,inplace=True)\n",
    "matches['Player_of_Match'].fillna('V Kohli', inplace=True)\n",
    "matches.isnull().sum()"
   ]
  },
  {
   "cell_type": "code",
   "execution_count": 8,
   "id": "35855f0d",
   "metadata": {},
   "outputs": [
    {
     "data": {
      "text/plain": [
       "300    Draw\n",
       "545    Draw\n",
       "570    Draw\n",
       "744    Draw\n",
       "Name: WinningTeam, dtype: object"
      ]
     },
     "execution_count": 8,
     "metadata": {},
     "output_type": "execute_result"
    }
   ],
   "source": [
    "matches.loc[matches.WinningTeam=='Draw','WinningTeam']\n"
   ]
  },
  {
   "cell_type": "code",
   "execution_count": 9,
   "id": "8f394f82",
   "metadata": {},
   "outputs": [],
   "source": [
    "# matches['Season'].value_counts()\n",
    "# matches['City'].value_counts()"
   ]
  },
  {
   "cell_type": "code",
   "execution_count": 10,
   "id": "cfd23816",
   "metadata": {},
   "outputs": [],
   "source": [
    "# Replacing Full names of the teams with their abbreviations \n",
    "matches.replace(['Mumbai Indians','Kolkata Knight Riders','Royal Challengers Bangalore','Deccan Chargers','Chennai Super Kings',\n",
    "                 'Rajasthan Royals','Delhi Daredevils','Gujarat Lions','Kings XI Punjab','Delhi Capitals' ,\n",
    "                 'Sunrisers Hyderabad','Rising Pune Supergiant','Kochi Tuskers Kerala','Pune Warriors','Gujarat Titans','Punjab Kings','Lucknow Super Giants']\n",
    "                ,['MI','KKR','RCB','DC','CSK','RR','DD','GL','KXIP','DCS','SRH','RPS','KTK','PW','GT','PK','LSG'],inplace=True)"
   ]
  },
  {
   "cell_type": "markdown",
   "id": "ead92df4",
   "metadata": {},
   "source": [
    "# Exploratory Analysis and Visualization\n"
   ]
  },
  {
   "cell_type": "markdown",
   "id": "2dcff190",
   "metadata": {},
   "source": [
    "Now that our data set has been cleaned up, it’s time to do the in-depth analysis and visualization.\n",
    "\n",
    "Let’s begin by importingmatplotlib.pyplot and seaborn."
   ]
  },
  {
   "cell_type": "code",
   "execution_count": 11,
   "id": "8e34aea3",
   "metadata": {},
   "outputs": [],
   "source": [
    "%matplotlib inline\n",
    "import matplotlib\n",
    "import matplotlib.pyplot as plt\n",
    "import numpy as np\n",
    "import seaborn as sns\n",
    "\n",
    "sns.color_palette(\"Paired\")\n",
    "matplotlib.rcParams['font.size'] = 14\n",
    "matplotlib.rcParams['figure.figsize'] = (4,4)\n",
    "matplotlib.rcParams['figure.facecolor'] = '#00000000'"
   ]
  },
  {
   "cell_type": "code",
   "execution_count": 12,
   "id": "be1f53f6",
   "metadata": {},
   "outputs": [
    {
     "data": {
      "text/plain": [
       "Text(0.5, 1.0, 'Toss-Win & Toss-Lose')"
      ]
     },
     "execution_count": 12,
     "metadata": {},
     "output_type": "execute_result"
    },
    {
     "data": {
      "image/png": "[encoded data removed]",
      "text/plain": [
       "<Figure size 400x400 with 1 Axes>"
      ]
     },
     "metadata": {
      "needs_background": "light"
     },
     "output_type": "display_data"
    }
   ],
   "source": [
    "objects = ('Toss & Win','Toss & Lose')\n",
    "y_pos = np.arange(len(objects))\n",
    "a=len(matches[matches['TossWin']==matches['WinningTeam']])/len(matches)\n",
    "b=(len(matches)-(len(matches[matches['TossWin']==matches['WinningTeam']])))/len(matches)\n",
    "performance = [a,b]\n",
    "plt.bar(y_pos, performance, align='center', alpha=0.7)\n",
    "plt.xticks(y_pos, objects)\n",
    "plt.ylabel('Winning Percentage')\n",
    "plt.title('Toss-Win & Toss-Lose')"
   ]
  },
  {
   "cell_type": "markdown",
   "id": "45265e03",
   "metadata": {},
   "source": [
    "# The team with the most number of wins per season"
   ]
  },
  {
   "cell_type": "markdown",
   "id": "887a8e2c",
   "metadata": {},
   "source": [
    "\n",
    "\n",
    "Let’s analyze the team with the most wins "
   ]
  },
  {
   "cell_type": "code",
   "execution_count": 13,
   "id": "1adf100b",
   "metadata": {},
   "outputs": [
    {
     "name": "stdout",
     "output_type": "stream",
     "text": [
      "    Season WinningTeam  Wins\n",
      "0     2008          RR    13\n",
      "1     2009          DD    10\n",
      "2     2010          MI    11\n",
      "3     2011         CSK    11\n",
      "4     2012         KKR    12\n",
      "5     2013          MI    13\n",
      "6     2014        KXIP    12\n",
      "7     2015         CSK    10\n",
      "8     2016         SRH    11\n",
      "9     2017          MI    12\n",
      "10    2018         CSK    11\n",
      "11    2019          MI    11\n",
      "12    2020          MI    11\n"
     ]
    }
   ],
   "source": [
    "# Grouping the data by 'Season' and 'WinningTeam' and counting the number of wins per team per season\n",
    "team_wins_per_season = matches.groupby(['Season', 'WinningTeam']).size()\n",
    "\n",
    "# Resetting the index of the resulting Series\n",
    "team_wins_per_season = team_wins_per_season.reset_index(name='Wins')\n",
    "\n",
    "# Finding the team with the most wins per season\n",
    "team_with_most_wins_per_season = team_wins_per_season.groupby('Season')['Wins'].idxmax()\n",
    "team_with_most_wins_per_season = team_wins_per_season.loc[team_with_most_wins_per_season]\n",
    "team_with_most_wins_per_season= team_with_most_wins_per_season.reset_index(drop=True)\n",
    "print(team_with_most_wins_per_season)\n"
   ]
  },
  {
   "cell_type": "markdown",
   "id": "4b2e12bc",
   "metadata": {},
   "source": [
    "The number of wins is a discrete value. Hence, we will plot a bar chart(barplot in Seaborn)."
   ]
  },
  {
   "cell_type": "code",
   "execution_count": 14,
   "id": "cb3f1f9f",
   "metadata": {},
   "outputs": [],
   "source": [
    "# ALTERNATE FOR ABOVE STPE::\n",
    "# teams_per_season = matches.groupby('Season')['WinningTeam'].value_counts()\n",
    "# teams_per_season\n",
    "# year = 2008\n",
    "# win_per_season_df = pd.DataFrame(columns=['year', 'team', 'wins'])\n",
    "# for items in teams_per_season.iteritems():    \n",
    "#     if items[0][0]==year:\n",
    "#         print(items)\n",
    "#         win_series = pd.DataFrame({\n",
    "#             'year': [items[0][0]],\n",
    "#             'team': [items[0][1]],\n",
    "#             'wins': [items[1]]\n",
    "#         })\n",
    "#         win_per_season_df = win_per_season_df.append(win_series)\n",
    "#         year += 1   "
   ]
  },
  {
   "cell_type": "code",
   "execution_count": 15,
   "id": "cd64939c",
   "metadata": {},
   "outputs": [
    {
     "data": {
      "text/plain": [
       "<Axes: xlabel='Wins', ylabel='WinningTeam'>"
      ]
     },
     "execution_count": 15,
     "metadata": {},
     "output_type": "execute_result"
    },
    {
     "data": {
      "image/png": "[encoded data removed]",
      "text/plain": [
       "<Figure size 800x1000 with 1 Axes>"
      ]
     },
     "metadata": {
      "needs_background": "light"
     },
     "output_type": "display_data"
    }
   ],
   "source": [
    "import seaborn as sns\n",
    "sns.color_palette(\"Paired\")\n",
    "matplotlib.rcParams['font.size'] = 10\n",
    "matplotlib.rcParams['figure.figsize'] = (8,10)\n",
    "sns.barplot(x='Wins', y='WinningTeam', hue='Season', data=team_with_most_wins_per_season)"
   ]
  },
  {
   "cell_type": "markdown",
   "id": "54295380",
   "metadata": {},
   "source": [
    "From the barplot, we can easily make inferences regarding the year in which a particular team has scored the maximum wins(and also the number of wins). Observations: Mumbai Indians has secured the most wins in four seasons(2010, 2013, 2017, and 2019,2020)."
   ]
  },
  {
   "cell_type": "markdown",
   "id": "cad72817",
   "metadata": {},
   "source": [
    "# The venue that hosted the maximum number of matches"
   ]
  },
  {
   "cell_type": "code",
   "execution_count": 16,
   "id": "bd2dce8c",
   "metadata": {},
   "outputs": [],
   "source": [
    "venue_ser = matches['Venue'].value_counts()"
   ]
  },
  {
   "cell_type": "code",
   "execution_count": 17,
   "id": "609a1038",
   "metadata": {},
   "outputs": [
    {
     "name": "stdout",
     "output_type": "stream",
     "text": [
      "                                                venue matches\n",
      "0                                        Eden Gardens      77\n",
      "1                               M Chinnaswamy Stadium      73\n",
      "2                                    Wankhede Stadium      73\n",
      "3                                    Feroz Shah Kotla      67\n",
      "4           Rajiv Gandhi International Stadium, Uppal      56\n",
      "5                     MA Chidambaram Stadium, Chepauk      49\n",
      "6                              Sawai Mansingh Stadium      47\n",
      "7          Punjab Cricket Association Stadium, Mohali      35\n",
      "8                 Dubai International Cricket Stadium      34\n",
      "9                                Sheikh Zayed Stadium      28\n",
      "10            Maharashtra Cricket Association Stadium      21\n",
      "11                            Sharjah Cricket Stadium      18\n",
      "12                         Dr DY Patil Sports Academy      17\n",
      "13                         Subrata Roy Sahara Stadium      17\n",
      "14                                          Kingsmead      15\n",
      "15  Punjab Cricket Association IS Bindra Stadium, ...      14\n",
      "16                       Sardar Patel Stadium, Motera      12\n",
      "17                                    SuperSport Park      12\n",
      "18  Dr. Y.S. Rajasekhara Reddy ACA-VDCA Cricket St...      11\n",
      "19                                  Brabourne Stadium      11\n",
      "20             Saurashtra Cricket Association Stadium      10\n",
      "21                             Holkar Cricket Stadium       9\n",
      "22       Himachal Pradesh Cricket Association Stadium       9\n",
      "23                          M. A. Chidambaram Stadium       8\n",
      "24                 Rajiv Gandhi Intl. Cricket Stadium       8\n",
      "25                              New Wanderers Stadium       8\n",
      "26                                   Barabati Stadium       7\n",
      "27                             M. Chinnaswamy Stadium       7\n",
      "28                            Feroz Shah Kotla Ground       7\n",
      "29                 JSCA International Stadium Complex       7\n",
      "30                                   St George's Park       7\n",
      "31                                           Newlands       7\n",
      "32                                  IS Bindra Stadium       7\n",
      "33   Shaheed Veer Narayan Singh International Stadium       6\n",
      "34                                      Nehru Stadium       5\n",
      "35                                         Green Park       4\n",
      "36                              De Beers Diamond Oval       3\n",
      "37       Vidarbha Cricket Association Stadium, Jamtha       3\n",
      "38                                       Buffalo Park       3\n",
      "39                                    OUTsurance Oval       2\n",
      "40                                   ACA-VDCA Stadium       2\n"
     ]
    }
   ],
   "source": [
    "venue_df = pd.DataFrame(columns=['venue', 'matches'])\n",
    "for items in venue_ser.iteritems():\n",
    "    temp_df = pd.DataFrame({\n",
    "        'venue':[items[0]],\n",
    "        'matches':[items[1]]\n",
    "    })\n",
    "    venue_df = venue_df.append(temp_df, ignore_index=True)\n",
    "print(venue_df)"
   ]
  },
  {
   "cell_type": "code",
   "execution_count": 18,
   "id": "b3ae5406",
   "metadata": {},
   "outputs": [
    {
     "data": {
      "text/plain": [
       "41"
      ]
     },
     "execution_count": 18,
     "metadata": {},
     "output_type": "execute_result"
    },
    {
     "data": {
      "image/png": "[encoded data removed]",
      "text/plain": [
       "<Figure size 800x1000 with 1 Axes>"
      ]
     },
     "metadata": {
      "needs_background": "light"
     },
     "output_type": "display_data"
    }
   ],
   "source": [
    "plt.title(\"IPL Venues\")\n",
    "sns.barplot(x='matches', y='venue', data=venue_df);\n",
    "matches['Venue'].nunique()"
   ]
  },
  {
   "cell_type": "markdown",
   "id": "e0d8f63d",
   "metadata": {},
   "source": [
    "# Observations:"
   ]
  },
  {
   "cell_type": "markdown",
   "id": "29df4f0e",
   "metadata": {},
   "source": [
    "Eden Gardens has hosted the maximum number of IPL matches followed by M Chinnaswamy Stadium and Wankhede Stadium.\n",
    "\n",
    "Till 2020, IPL matches were hosted by 41 venues"
   ]
  },
  {
   "cell_type": "markdown",
   "id": "1fc370d7",
   "metadata": {},
   "source": [
    "# The most successful IPL team"
   ]
  },
  {
   "cell_type": "markdown",
   "id": "f69a0afd",
   "metadata": {},
   "source": [
    "In a game of sports, every team competes for victory. Hence, the team that has registered the most number of victories is the most successful."
   ]
  },
  {
   "cell_type": "code",
   "execution_count": 19,
   "id": "1a8b3c84",
   "metadata": {},
   "outputs": [],
   "source": [
    "team_wins_ser = matches['WinningTeam'].value_counts()\n",
    "\n",
    "team_wins_df = pd.DataFrame(columns=[\"team\", \"wins\"])\n",
    "for items in team_wins_ser.iteritems():\n",
    "    temp_df1 = pd.DataFrame({\n",
    "        'team':[items[0]],\n",
    "        'wins':[items[1]]\n",
    "    })\n",
    "    team_wins_df = team_wins_df.append(temp_df1, ignore_index=True)"
   ]
  },
  {
   "cell_type": "code",
   "execution_count": 20,
   "id": "0e37841b",
   "metadata": {},
   "outputs": [
    {
     "data": {
      "text/html": [
       "<div>\n",
       "<style scoped>\n",
       "    .dataframe tbody tr th:only-of-type {\n",
       "        vertical-align: middle;\n",
       "    }\n",
       "\n",
       "    .dataframe tbody tr th {\n",
       "        vertical-align: top;\n",
       "    }\n",
       "\n",
       "    .dataframe thead th {\n",
       "        text-align: right;\n",
       "    }\n",
       "</style>\n",
       "<table border=\"1\" class=\"dataframe\">\n",
       "  <thead>\n",
       "    <tr style=\"text-align: right;\">\n",
       "      <th></th>\n",
       "      <th>team</th>\n",
       "      <th>wins</th>\n",
       "    </tr>\n",
       "  </thead>\n",
       "  <tbody>\n",
       "    <tr>\n",
       "      <th>0</th>\n",
       "      <td>MI</td>\n",
       "      <td>120</td>\n",
       "    </tr>\n",
       "    <tr>\n",
       "      <th>1</th>\n",
       "      <td>CSK</td>\n",
       "      <td>106</td>\n",
       "    </tr>\n",
       "    <tr>\n",
       "      <th>2</th>\n",
       "      <td>KKR</td>\n",
       "      <td>99</td>\n",
       "    </tr>\n",
       "    <tr>\n",
       "      <th>3</th>\n",
       "      <td>RCB</td>\n",
       "      <td>91</td>\n",
       "    </tr>\n",
       "    <tr>\n",
       "      <th>4</th>\n",
       "      <td>KXIP</td>\n",
       "      <td>88</td>\n",
       "    </tr>\n",
       "    <tr>\n",
       "      <th>5</th>\n",
       "      <td>RR</td>\n",
       "      <td>81</td>\n",
       "    </tr>\n",
       "    <tr>\n",
       "      <th>6</th>\n",
       "      <td>DD</td>\n",
       "      <td>67</td>\n",
       "    </tr>\n",
       "    <tr>\n",
       "      <th>7</th>\n",
       "      <td>SRH</td>\n",
       "      <td>66</td>\n",
       "    </tr>\n",
       "    <tr>\n",
       "      <th>8</th>\n",
       "      <td>DC</td>\n",
       "      <td>29</td>\n",
       "    </tr>\n",
       "    <tr>\n",
       "      <th>9</th>\n",
       "      <td>DCS</td>\n",
       "      <td>19</td>\n",
       "    </tr>\n",
       "    <tr>\n",
       "      <th>10</th>\n",
       "      <td>RPS</td>\n",
       "      <td>15</td>\n",
       "    </tr>\n",
       "    <tr>\n",
       "      <th>11</th>\n",
       "      <td>GL</td>\n",
       "      <td>13</td>\n",
       "    </tr>\n",
       "    <tr>\n",
       "      <th>12</th>\n",
       "      <td>PW</td>\n",
       "      <td>12</td>\n",
       "    </tr>\n",
       "    <tr>\n",
       "      <th>13</th>\n",
       "      <td>KTK</td>\n",
       "      <td>6</td>\n",
       "    </tr>\n",
       "    <tr>\n",
       "      <th>14</th>\n",
       "      <td>Draw</td>\n",
       "      <td>4</td>\n",
       "    </tr>\n",
       "  </tbody>\n",
       "</table>\n",
       "</div>"
      ],
      "text/plain": [
       "    team wins\n",
       "0     MI  120\n",
       "1    CSK  106\n",
       "2    KKR   99\n",
       "3    RCB   91\n",
       "4   KXIP   88\n",
       "5     RR   81\n",
       "6     DD   67\n",
       "7    SRH   66\n",
       "8     DC   29\n",
       "9    DCS   19\n",
       "10   RPS   15\n",
       "11    GL   13\n",
       "12    PW   12\n",
       "13   KTK    6\n",
       "14  Draw    4"
      ]
     },
     "execution_count": 20,
     "metadata": {},
     "output_type": "execute_result"
    }
   ],
   "source": [
    "team_wins_df "
   ]
  },
  {
   "cell_type": "code",
   "execution_count": 21,
   "id": "a1420713",
   "metadata": {},
   "outputs": [
    {
     "data": {
      "image/png": "[encoded data removed]",
      "text/plain": [
       "<Figure size 800x1000 with 1 Axes>"
      ]
     },
     "metadata": {
      "needs_background": "light"
     },
     "output_type": "display_data"
    }
   ],
   "source": [
    "plt.title(\"Total Victories of IPL Teams\")\n",
    "sns.barplot(x='wins', y='team', data=team_wins_df, palette='Paired');"
   ]
  },
  {
   "cell_type": "markdown",
   "id": "29a09ae1",
   "metadata": {},
   "source": [
    "# Observation: "
   ]
  },
  {
   "cell_type": "markdown",
   "id": "63673085",
   "metadata": {},
   "source": [
    "Mumbai Indians is the most successful team(as they have won the maximum number of IPL matches -120) followed by Chennai Super Kings and Kolkata Knight Riders."
   ]
  },
  {
   "cell_type": "markdown",
   "id": "8dc78159",
   "metadata": {},
   "source": [
    "# Most Valuable Player\n"
   ]
  },
  {
   "cell_type": "markdown",
   "id": "7f749eff",
   "metadata": {},
   "source": [
    "Winning matters the most in a competitive league match.\n",
    "\n",
    "If a player makes the most significant contribution to his team’s victory, then he’s chosen as the Player_of_Match.\n",
    "\n",
    "The player who has won the Player_of_Match title on most occasions is the most valuable player."
   ]
  },
  {
   "cell_type": "code",
   "execution_count": 22,
   "id": "dc58d2bf",
   "metadata": {},
   "outputs": [],
   "source": [
    "mvp = matches['Player_of_Match'].value_counts()\n",
    "\n",
    "mvp_ten_df = pd.DataFrame(columns=[\"player\", \"wins\"])\n",
    "count = 0\n",
    "for items in mvp.iteritems():\n",
    "    if count>9:\n",
    "        break\n",
    "    else:\n",
    "        temp_df2 = pd.DataFrame({\n",
    "            'player':[items[0]],\n",
    "            'wins':[items[1]]\n",
    "        })\n",
    "        mvp_ten_df = mvp_ten_df.append(temp_df2, ignore_index=True)\n",
    "        count += 1  "
   ]
  },
  {
   "cell_type": "code",
   "execution_count": 23,
   "id": "5692f584",
   "metadata": {},
   "outputs": [
    {
     "data": {
      "text/html": [
       "<div>\n",
       "<style scoped>\n",
       "    .dataframe tbody tr th:only-of-type {\n",
       "        vertical-align: middle;\n",
       "    }\n",
       "\n",
       "    .dataframe tbody tr th {\n",
       "        vertical-align: top;\n",
       "    }\n",
       "\n",
       "    .dataframe thead th {\n",
       "        text-align: right;\n",
       "    }\n",
       "</style>\n",
       "<table border=\"1\" class=\"dataframe\">\n",
       "  <thead>\n",
       "    <tr style=\"text-align: right;\">\n",
       "      <th></th>\n",
       "      <th>player</th>\n",
       "      <th>wins</th>\n",
       "    </tr>\n",
       "  </thead>\n",
       "  <tbody>\n",
       "    <tr>\n",
       "      <th>0</th>\n",
       "      <td>AB de Villiers</td>\n",
       "      <td>23</td>\n",
       "    </tr>\n",
       "    <tr>\n",
       "      <th>1</th>\n",
       "      <td>CH Gayle</td>\n",
       "      <td>22</td>\n",
       "    </tr>\n",
       "    <tr>\n",
       "      <th>2</th>\n",
       "      <td>RG Sharma</td>\n",
       "      <td>18</td>\n",
       "    </tr>\n",
       "    <tr>\n",
       "      <th>3</th>\n",
       "      <td>DA Warner</td>\n",
       "      <td>17</td>\n",
       "    </tr>\n",
       "    <tr>\n",
       "      <th>4</th>\n",
       "      <td>MS Dhoni</td>\n",
       "      <td>17</td>\n",
       "    </tr>\n",
       "    <tr>\n",
       "      <th>5</th>\n",
       "      <td>V Kohli</td>\n",
       "      <td>17</td>\n",
       "    </tr>\n",
       "    <tr>\n",
       "      <th>6</th>\n",
       "      <td>YK Pathan</td>\n",
       "      <td>16</td>\n",
       "    </tr>\n",
       "    <tr>\n",
       "      <th>7</th>\n",
       "      <td>SR Watson</td>\n",
       "      <td>16</td>\n",
       "    </tr>\n",
       "    <tr>\n",
       "      <th>8</th>\n",
       "      <td>SK Raina</td>\n",
       "      <td>14</td>\n",
       "    </tr>\n",
       "    <tr>\n",
       "      <th>9</th>\n",
       "      <td>G Gambhir</td>\n",
       "      <td>13</td>\n",
       "    </tr>\n",
       "  </tbody>\n",
       "</table>\n",
       "</div>"
      ],
      "text/plain": [
       "           player wins\n",
       "0  AB de Villiers   23\n",
       "1        CH Gayle   22\n",
       "2       RG Sharma   18\n",
       "3       DA Warner   17\n",
       "4        MS Dhoni   17\n",
       "5         V Kohli   17\n",
       "6       YK Pathan   16\n",
       "7       SR Watson   16\n",
       "8        SK Raina   14\n",
       "9       G Gambhir   13"
      ]
     },
     "execution_count": 23,
     "metadata": {},
     "output_type": "execute_result"
    }
   ],
   "source": [
    "mvp_ten_df"
   ]
  },
  {
   "cell_type": "code",
   "execution_count": 24,
   "id": "0efd4922",
   "metadata": {},
   "outputs": [
    {
     "data": {
      "image/png": "[encoded data removed]",
      "text/plain": [
       "<Figure size 800x1000 with 1 Axes>"
      ]
     },
     "metadata": {
      "needs_background": "light"
     },
     "output_type": "display_data"
    }
   ],
   "source": [
    "plt.title(\"Top Ten IPL Players\")\n",
    "sns.barplot(x='wins', y='player', data=mvp_ten_df, palette='Paired');"
   ]
  },
  {
   "cell_type": "markdown",
   "id": "89ab5aed",
   "metadata": {},
   "source": [
    "# Observations:"
   ]
  },
  {
   "cell_type": "markdown",
   "id": "e2551ee4",
   "metadata": {},
   "source": [
    "AB de Villiers is the player who won the most player of the match awards and hence is the most valuable player.\n",
    "\n",
    "Six Indian players have figured in the top ten IPL players list"
   ]
  },
  {
   "cell_type": "markdown",
   "id": "dac7131a",
   "metadata": {},
   "source": [
    "# The team that won the most number of toss"
   ]
  },
  {
   "cell_type": "code",
   "execution_count": 25,
   "id": "0fb1d478",
   "metadata": {},
   "outputs": [],
   "source": [
    "toss = matches['TossWin'].value_counts()\n",
    "\n",
    "toss_df = pd.DataFrame(columns=[\"team\", \"wins\"])\n",
    "\n",
    "for items in toss.iteritems():\n",
    "    temp_df3 = pd.DataFrame({\n",
    "        'team':[items[0]],\n",
    "        'wins':[items[1]]\n",
    "    })\n",
    "    toss_df = toss_df.append(temp_df3, ignore_index=True)"
   ]
  },
  {
   "cell_type": "code",
   "execution_count": 26,
   "id": "aa014dcb",
   "metadata": {},
   "outputs": [
    {
     "data": {
      "text/html": [
       "<div>\n",
       "<style scoped>\n",
       "    .dataframe tbody tr th:only-of-type {\n",
       "        vertical-align: middle;\n",
       "    }\n",
       "\n",
       "    .dataframe tbody tr th {\n",
       "        vertical-align: top;\n",
       "    }\n",
       "\n",
       "    .dataframe thead th {\n",
       "        text-align: right;\n",
       "    }\n",
       "</style>\n",
       "<table border=\"1\" class=\"dataframe\">\n",
       "  <thead>\n",
       "    <tr style=\"text-align: right;\">\n",
       "      <th></th>\n",
       "      <th>team</th>\n",
       "      <th>wins</th>\n",
       "    </tr>\n",
       "  </thead>\n",
       "  <tbody>\n",
       "    <tr>\n",
       "      <th>0</th>\n",
       "      <td>MI</td>\n",
       "      <td>106</td>\n",
       "    </tr>\n",
       "    <tr>\n",
       "      <th>1</th>\n",
       "      <td>KKR</td>\n",
       "      <td>98</td>\n",
       "    </tr>\n",
       "    <tr>\n",
       "      <th>2</th>\n",
       "      <td>CSK</td>\n",
       "      <td>97</td>\n",
       "    </tr>\n",
       "    <tr>\n",
       "      <th>3</th>\n",
       "      <td>RCB</td>\n",
       "      <td>87</td>\n",
       "    </tr>\n",
       "    <tr>\n",
       "      <th>4</th>\n",
       "      <td>RR</td>\n",
       "      <td>87</td>\n",
       "    </tr>\n",
       "    <tr>\n",
       "      <th>5</th>\n",
       "      <td>KXIP</td>\n",
       "      <td>85</td>\n",
       "    </tr>\n",
       "    <tr>\n",
       "      <th>6</th>\n",
       "      <td>DD</td>\n",
       "      <td>80</td>\n",
       "    </tr>\n",
       "    <tr>\n",
       "      <th>7</th>\n",
       "      <td>SRH</td>\n",
       "      <td>57</td>\n",
       "    </tr>\n",
       "    <tr>\n",
       "      <th>8</th>\n",
       "      <td>DC</td>\n",
       "      <td>43</td>\n",
       "    </tr>\n",
       "    <tr>\n",
       "      <th>9</th>\n",
       "      <td>PW</td>\n",
       "      <td>20</td>\n",
       "    </tr>\n",
       "    <tr>\n",
       "      <th>10</th>\n",
       "      <td>DCS</td>\n",
       "      <td>20</td>\n",
       "    </tr>\n",
       "    <tr>\n",
       "      <th>11</th>\n",
       "      <td>GL</td>\n",
       "      <td>15</td>\n",
       "    </tr>\n",
       "    <tr>\n",
       "      <th>12</th>\n",
       "      <td>RPS</td>\n",
       "      <td>13</td>\n",
       "    </tr>\n",
       "    <tr>\n",
       "      <th>13</th>\n",
       "      <td>KTK</td>\n",
       "      <td>8</td>\n",
       "    </tr>\n",
       "  </tbody>\n",
       "</table>\n",
       "</div>"
      ],
      "text/plain": [
       "    team wins\n",
       "0     MI  106\n",
       "1    KKR   98\n",
       "2    CSK   97\n",
       "3    RCB   87\n",
       "4     RR   87\n",
       "5   KXIP   85\n",
       "6     DD   80\n",
       "7    SRH   57\n",
       "8     DC   43\n",
       "9     PW   20\n",
       "10   DCS   20\n",
       "11    GL   15\n",
       "12   RPS   13\n",
       "13   KTK    8"
      ]
     },
     "execution_count": 26,
     "metadata": {},
     "output_type": "execute_result"
    }
   ],
   "source": [
    "toss_df"
   ]
  },
  {
   "cell_type": "code",
   "execution_count": 27,
   "id": "abe051f4",
   "metadata": {},
   "outputs": [
    {
     "data": {
      "image/png": "[encoded data removed]",
      "text/plain": [
       "<Figure size 800x1000 with 1 Axes>"
      ]
     },
     "metadata": {
      "needs_background": "light"
     },
     "output_type": "display_data"
    }
   ],
   "source": [
    "plt.title(\"How IPL Teams fared in toss?\")\n",
    "sns.barplot(x='wins', y='team', data=toss_df, palette='Paired');"
   ]
  },
  {
   "cell_type": "markdown",
   "id": "a3be418d",
   "metadata": {},
   "source": [
    "# Observations:"
   ]
  },
  {
   "cell_type": "markdown",
   "id": "5aa25ac4",
   "metadata": {},
   "source": [
    "Mumbai Indians has won the most toss(till 2020) in IPL history.\n",
    "\n",
    "All the top teams in IPL are successful in winning the toss as well."
   ]
  },
  {
   "cell_type": "code",
   "execution_count": 28,
   "id": "361d1c23",
   "metadata": {},
   "outputs": [
    {
     "data": {
      "text/html": [
       "<div>\n",
       "<style scoped>\n",
       "    .dataframe tbody tr th:only-of-type {\n",
       "        vertical-align: middle;\n",
       "    }\n",
       "\n",
       "    .dataframe tbody tr th {\n",
       "        vertical-align: top;\n",
       "    }\n",
       "\n",
       "    .dataframe thead th {\n",
       "        text-align: right;\n",
       "    }\n",
       "</style>\n",
       "<table border=\"1\" class=\"dataframe\">\n",
       "  <thead>\n",
       "    <tr style=\"text-align: right;\">\n",
       "      <th></th>\n",
       "      <th>id</th>\n",
       "      <th>Season</th>\n",
       "      <th>dl_applied</th>\n",
       "      <th>win_by_runs</th>\n",
       "      <th>win_by_wickets</th>\n",
       "    </tr>\n",
       "  </thead>\n",
       "  <tbody>\n",
       "    <tr>\n",
       "      <th>id</th>\n",
       "      <td>1.000000</td>\n",
       "      <td>0.753073</td>\n",
       "      <td>-0.035524</td>\n",
       "      <td>-0.002980</td>\n",
       "      <td>-0.005605</td>\n",
       "    </tr>\n",
       "    <tr>\n",
       "      <th>Season</th>\n",
       "      <td>0.753073</td>\n",
       "      <td>1.000000</td>\n",
       "      <td>-0.021305</td>\n",
       "      <td>-0.010824</td>\n",
       "      <td>-0.004960</td>\n",
       "    </tr>\n",
       "    <tr>\n",
       "      <th>dl_applied</th>\n",
       "      <td>-0.035524</td>\n",
       "      <td>-0.021305</td>\n",
       "      <td>1.000000</td>\n",
       "      <td>-0.017581</td>\n",
       "      <td>-0.011369</td>\n",
       "    </tr>\n",
       "    <tr>\n",
       "      <th>win_by_runs</th>\n",
       "      <td>-0.002980</td>\n",
       "      <td>-0.010824</td>\n",
       "      <td>-0.017581</td>\n",
       "      <td>1.000000</td>\n",
       "      <td>-0.566078</td>\n",
       "    </tr>\n",
       "    <tr>\n",
       "      <th>win_by_wickets</th>\n",
       "      <td>-0.005605</td>\n",
       "      <td>-0.004960</td>\n",
       "      <td>-0.011369</td>\n",
       "      <td>-0.566078</td>\n",
       "      <td>1.000000</td>\n",
       "    </tr>\n",
       "  </tbody>\n",
       "</table>\n",
       "</div>"
      ],
      "text/plain": [
       "                      id    Season  dl_applied  win_by_runs  win_by_wickets\n",
       "id              1.000000  0.753073   -0.035524    -0.002980       -0.005605\n",
       "Season          0.753073  1.000000   -0.021305    -0.010824       -0.004960\n",
       "dl_applied     -0.035524 -0.021305    1.000000    -0.017581       -0.011369\n",
       "win_by_runs    -0.002980 -0.010824   -0.017581     1.000000       -0.566078\n",
       "win_by_wickets -0.005605 -0.004960   -0.011369    -0.566078        1.000000"
      ]
     },
     "execution_count": 28,
     "metadata": {},
     "output_type": "execute_result"
    }
   ],
   "source": [
    "#Finding Co-relations among attributes\n",
    "corrMatrix=matches.corr()\n",
    "corrMatrix"
   ]
  },
  {
   "cell_type": "code",
   "execution_count": 29,
   "id": "69965b81",
   "metadata": {},
   "outputs": [
    {
     "data": {
      "image/png": "[encoded data removed]",
      "text/plain": [
       "<Figure size 800x1000 with 2 Axes>"
      ]
     },
     "metadata": {
      "needs_background": "light"
     },
     "output_type": "display_data"
    }
   ],
   "source": [
    "sns.heatmap(corrMatrix, vmax = .9, square = True)\n",
    "plt.show()"
   ]
  },
  {
   "cell_type": "code",
   "execution_count": 30,
   "id": "5bc48fc0",
   "metadata": {},
   "outputs": [
    {
     "data": {
      "text/plain": [
       "id                 0\n",
       "Season             0\n",
       "City               0\n",
       "date               0\n",
       "team1              0\n",
       "team2              0\n",
       "TossWin            0\n",
       "TossDecision       0\n",
       "result             0\n",
       "dl_applied         0\n",
       "WinningTeam        0\n",
       "win_by_runs        0\n",
       "win_by_wickets     0\n",
       "Player_of_Match    0\n",
       "Venue              0\n",
       "umpire1            0\n",
       "umpire2            0\n",
       "dtype: int64"
      ]
     },
     "execution_count": 30,
     "metadata": {},
     "output_type": "execute_result"
    }
   ],
   "source": [
    "#Checking for null values\n",
    "matches.isnull().sum()\n",
    "# matches.apply(lambda x: sum(x.isnull()),axis=0)\n"
   ]
  },
  {
   "cell_type": "code",
   "execution_count": 31,
   "id": "e8b1827e",
   "metadata": {},
   "outputs": [],
   "source": [
    "matches.replace(['Bangalore','Chandigarh','Delhi','Mumbai','Kolkata','Jaipur','Hyderabad','Chennai','Cape Town',\n",
    "                 'Port Elizabeth','Durban','Centurion','East London','Johannesburg','Kimberley','Bloemfontein','Ahmedabad',\n",
    "                 'Cuttack','Nagpur','Dharamsala','Kochi','Indore','Visakhapatnam','Pune','Raipur','Ranchi','Abu Dhabi','Sharjah',\n",
    "                 'Dubai','Rajkot','Kanpur','Mohali','Bengaluru'],[1, 2, 3, 4, 5, 6, 7, 8, 9, 10, 11, 12, 13, 14, 15, 16, 17, 18, 19\n",
    "                                                                  , 20, 21, 22, 23, 24, 25, 26, 27, 28, 29, 30, 31, 32, 33],inplace=True)"
   ]
  },
  {
   "cell_type": "code",
   "execution_count": 32,
   "id": "22105c70",
   "metadata": {},
   "outputs": [],
   "source": [
    "matches.drop(columns=['umpire1','umpire2'],axis=1, inplace =True)\n"
   ]
  },
  {
   "cell_type": "code",
   "execution_count": 33,
   "id": "489e98ca",
   "metadata": {},
   "outputs": [],
   "source": [
    "matches.drop(columns=['Player_of_Match'], inplace =True)\n"
   ]
  },
  {
   "cell_type": "code",
   "execution_count": 34,
   "id": "f4d8d95d",
   "metadata": {},
   "outputs": [
    {
     "data": {
      "text/html": [
       "<div>\n",
       "<style scoped>\n",
       "    .dataframe tbody tr th:only-of-type {\n",
       "        vertical-align: middle;\n",
       "    }\n",
       "\n",
       "    .dataframe tbody tr th {\n",
       "        vertical-align: top;\n",
       "    }\n",
       "\n",
       "    .dataframe thead th {\n",
       "        text-align: right;\n",
       "    }\n",
       "</style>\n",
       "<table border=\"1\" class=\"dataframe\">\n",
       "  <thead>\n",
       "    <tr style=\"text-align: right;\">\n",
       "      <th></th>\n",
       "      <th>id</th>\n",
       "      <th>Season</th>\n",
       "      <th>City</th>\n",
       "      <th>date</th>\n",
       "      <th>team1</th>\n",
       "      <th>team2</th>\n",
       "      <th>TossWin</th>\n",
       "      <th>TossDecision</th>\n",
       "      <th>result</th>\n",
       "      <th>dl_applied</th>\n",
       "      <th>WinningTeam</th>\n",
       "      <th>win_by_runs</th>\n",
       "      <th>win_by_wickets</th>\n",
       "      <th>Venue</th>\n",
       "    </tr>\n",
       "  </thead>\n",
       "  <tbody>\n",
       "    <tr>\n",
       "      <th>0</th>\n",
       "      <td>1</td>\n",
       "      <td>2017</td>\n",
       "      <td>7</td>\n",
       "      <td>05-04-2017</td>\n",
       "      <td>SRH</td>\n",
       "      <td>RCB</td>\n",
       "      <td>RCB</td>\n",
       "      <td>field</td>\n",
       "      <td>normal</td>\n",
       "      <td>0</td>\n",
       "      <td>SRH</td>\n",
       "      <td>35</td>\n",
       "      <td>0</td>\n",
       "      <td>Rajiv Gandhi International Stadium, Uppal</td>\n",
       "    </tr>\n",
       "    <tr>\n",
       "      <th>1</th>\n",
       "      <td>2</td>\n",
       "      <td>2017</td>\n",
       "      <td>24</td>\n",
       "      <td>06-04-2017</td>\n",
       "      <td>MI</td>\n",
       "      <td>RPS</td>\n",
       "      <td>RPS</td>\n",
       "      <td>field</td>\n",
       "      <td>normal</td>\n",
       "      <td>0</td>\n",
       "      <td>RPS</td>\n",
       "      <td>0</td>\n",
       "      <td>7</td>\n",
       "      <td>Maharashtra Cricket Association Stadium</td>\n",
       "    </tr>\n",
       "    <tr>\n",
       "      <th>2</th>\n",
       "      <td>3</td>\n",
       "      <td>2017</td>\n",
       "      <td>30</td>\n",
       "      <td>07-04-2017</td>\n",
       "      <td>GL</td>\n",
       "      <td>KKR</td>\n",
       "      <td>KKR</td>\n",
       "      <td>field</td>\n",
       "      <td>normal</td>\n",
       "      <td>0</td>\n",
       "      <td>KKR</td>\n",
       "      <td>0</td>\n",
       "      <td>10</td>\n",
       "      <td>Saurashtra Cricket Association Stadium</td>\n",
       "    </tr>\n",
       "    <tr>\n",
       "      <th>3</th>\n",
       "      <td>4</td>\n",
       "      <td>2017</td>\n",
       "      <td>22</td>\n",
       "      <td>08-04-2017</td>\n",
       "      <td>RPS</td>\n",
       "      <td>KXIP</td>\n",
       "      <td>KXIP</td>\n",
       "      <td>field</td>\n",
       "      <td>normal</td>\n",
       "      <td>0</td>\n",
       "      <td>KXIP</td>\n",
       "      <td>0</td>\n",
       "      <td>6</td>\n",
       "      <td>Holkar Cricket Stadium</td>\n",
       "    </tr>\n",
       "    <tr>\n",
       "      <th>4</th>\n",
       "      <td>5</td>\n",
       "      <td>2017</td>\n",
       "      <td>1</td>\n",
       "      <td>08-04-2017</td>\n",
       "      <td>RCB</td>\n",
       "      <td>DD</td>\n",
       "      <td>RCB</td>\n",
       "      <td>bat</td>\n",
       "      <td>normal</td>\n",
       "      <td>0</td>\n",
       "      <td>RCB</td>\n",
       "      <td>15</td>\n",
       "      <td>0</td>\n",
       "      <td>M Chinnaswamy Stadium</td>\n",
       "    </tr>\n",
       "  </tbody>\n",
       "</table>\n",
       "</div>"
      ],
      "text/plain": [
       "   id  Season  City        date team1 team2 TossWin TossDecision  result  \\\n",
       "0   1    2017     7  05-04-2017   SRH   RCB     RCB        field  normal   \n",
       "1   2    2017    24  06-04-2017    MI   RPS     RPS        field  normal   \n",
       "2   3    2017    30  07-04-2017    GL   KKR     KKR        field  normal   \n",
       "3   4    2017    22  08-04-2017   RPS  KXIP    KXIP        field  normal   \n",
       "4   5    2017     1  08-04-2017   RCB    DD     RCB          bat  normal   \n",
       "\n",
       "   dl_applied WinningTeam  win_by_runs  win_by_wickets  \\\n",
       "0           0         SRH           35               0   \n",
       "1           0         RPS            0               7   \n",
       "2           0         KKR            0              10   \n",
       "3           0        KXIP            0               6   \n",
       "4           0         RCB           15               0   \n",
       "\n",
       "                                       Venue  \n",
       "0  Rajiv Gandhi International Stadium, Uppal  \n",
       "1    Maharashtra Cricket Association Stadium  \n",
       "2     Saurashtra Cricket Association Stadium  \n",
       "3                     Holkar Cricket Stadium  \n",
       "4                      M Chinnaswamy Stadium  "
      ]
     },
     "execution_count": 34,
     "metadata": {},
     "output_type": "execute_result"
    }
   ],
   "source": [
    "matches.head()"
   ]
  },
  {
   "cell_type": "code",
   "execution_count": 35,
   "id": "9821dc7c",
   "metadata": {},
   "outputs": [
    {
     "data": {
      "text/plain": [
       "id                0\n",
       "Season            0\n",
       "City              0\n",
       "date              0\n",
       "team1             0\n",
       "team2             0\n",
       "TossWin           0\n",
       "TossDecision      0\n",
       "result            0\n",
       "dl_applied        0\n",
       "WinningTeam       0\n",
       "win_by_runs       0\n",
       "win_by_wickets    0\n",
       "Venue             0\n",
       "dtype: int64"
      ]
     },
     "execution_count": 35,
     "metadata": {},
     "output_type": "execute_result"
    }
   ],
   "source": [
    "matches.isnull().sum()"
   ]
  },
  {
   "cell_type": "code",
   "execution_count": 36,
   "id": "9d4ff0e1",
   "metadata": {},
   "outputs": [
    {
     "data": {
      "text/html": [
       "<div>\n",
       "<style scoped>\n",
       "    .dataframe tbody tr th:only-of-type {\n",
       "        vertical-align: middle;\n",
       "    }\n",
       "\n",
       "    .dataframe tbody tr th {\n",
       "        vertical-align: top;\n",
       "    }\n",
       "\n",
       "    .dataframe thead th {\n",
       "        text-align: right;\n",
       "    }\n",
       "</style>\n",
       "<table border=\"1\" class=\"dataframe\">\n",
       "  <thead>\n",
       "    <tr style=\"text-align: right;\">\n",
       "      <th></th>\n",
       "      <th>team1</th>\n",
       "      <th>team2</th>\n",
       "      <th>City</th>\n",
       "      <th>TossDecision</th>\n",
       "      <th>TossWin</th>\n",
       "      <th>Venue</th>\n",
       "      <th>WinningTeam</th>\n",
       "    </tr>\n",
       "  </thead>\n",
       "  <tbody>\n",
       "    <tr>\n",
       "      <th>0</th>\n",
       "      <td>SRH</td>\n",
       "      <td>RCB</td>\n",
       "      <td>7</td>\n",
       "      <td>field</td>\n",
       "      <td>RCB</td>\n",
       "      <td>Rajiv Gandhi International Stadium, Uppal</td>\n",
       "      <td>SRH</td>\n",
       "    </tr>\n",
       "    <tr>\n",
       "      <th>1</th>\n",
       "      <td>MI</td>\n",
       "      <td>RPS</td>\n",
       "      <td>24</td>\n",
       "      <td>field</td>\n",
       "      <td>RPS</td>\n",
       "      <td>Maharashtra Cricket Association Stadium</td>\n",
       "      <td>RPS</td>\n",
       "    </tr>\n",
       "    <tr>\n",
       "      <th>2</th>\n",
       "      <td>GL</td>\n",
       "      <td>KKR</td>\n",
       "      <td>30</td>\n",
       "      <td>field</td>\n",
       "      <td>KKR</td>\n",
       "      <td>Saurashtra Cricket Association Stadium</td>\n",
       "      <td>KKR</td>\n",
       "    </tr>\n",
       "    <tr>\n",
       "      <th>3</th>\n",
       "      <td>RPS</td>\n",
       "      <td>KXIP</td>\n",
       "      <td>22</td>\n",
       "      <td>field</td>\n",
       "      <td>KXIP</td>\n",
       "      <td>Holkar Cricket Stadium</td>\n",
       "      <td>KXIP</td>\n",
       "    </tr>\n",
       "    <tr>\n",
       "      <th>4</th>\n",
       "      <td>RCB</td>\n",
       "      <td>DD</td>\n",
       "      <td>1</td>\n",
       "      <td>bat</td>\n",
       "      <td>RCB</td>\n",
       "      <td>M Chinnaswamy Stadium</td>\n",
       "      <td>RCB</td>\n",
       "    </tr>\n",
       "  </tbody>\n",
       "</table>\n",
       "</div>"
      ],
      "text/plain": [
       "  team1 team2  City TossDecision TossWin  \\\n",
       "0   SRH   RCB     7        field     RCB   \n",
       "1    MI   RPS    24        field     RPS   \n",
       "2    GL   KKR    30        field     KKR   \n",
       "3   RPS  KXIP    22        field    KXIP   \n",
       "4   RCB    DD     1          bat     RCB   \n",
       "\n",
       "                                       Venue WinningTeam  \n",
       "0  Rajiv Gandhi International Stadium, Uppal         SRH  \n",
       "1    Maharashtra Cricket Association Stadium         RPS  \n",
       "2     Saurashtra Cricket Association Stadium         KKR  \n",
       "3                     Holkar Cricket Stadium        KXIP  \n",
       "4                      M Chinnaswamy Stadium         RCB  "
      ]
     },
     "execution_count": 36,
     "metadata": {},
     "output_type": "execute_result"
    }
   ],
   "source": [
    "matches = matches[['team1','team2','City','TossDecision','TossWin','Venue','WinningTeam']]\n",
    "matches.head()"
   ]
  },
  {
   "cell_type": "code",
   "execution_count": 37,
   "id": "4e2327f3",
   "metadata": {},
   "outputs": [
    {
     "name": "stdout",
     "output_type": "stream",
     "text": [
      "['SRH' 'MI' 'GL' 'RPS' 'RCB' 'KKR' 'DD' 'KXIP' 'CSK' 'RR' 'DC' 'KTK' 'PW'\n",
      " 'DCS']\n",
      "['RCB' 'RPS' 'KKR' 'KXIP' 'DD' 'SRH' 'MI' 'GL' 'RR' 'CSK' 'DC' 'PW' 'KTK'\n",
      " 'DCS']\n"
     ]
    }
   ],
   "source": [
    "print(matches['team1'].unique())\n",
    "print(matches['team2'].unique())"
   ]
  },
  {
   "cell_type": "code",
   "execution_count": 38,
   "id": "5346ae44",
   "metadata": {},
   "outputs": [],
   "source": [
    "# print(matches[['team1', 'team2', 'TossWin']].dtypes)\n"
   ]
  },
  {
   "cell_type": "code",
   "execution_count": 39,
   "id": "11dabd47",
   "metadata": {
    "scrolled": true
   },
   "outputs": [],
   "source": [
    "# print(matches['team1'].isnull().sum())\n",
    "# print(matches['team2'].isnull().sum())"
   ]
  },
  {
   "cell_type": "code",
   "execution_count": 40,
   "id": "a1c410af",
   "metadata": {},
   "outputs": [
    {
     "data": {
      "text/html": [
       "<div>\n",
       "<style scoped>\n",
       "    .dataframe tbody tr th:only-of-type {\n",
       "        vertical-align: middle;\n",
       "    }\n",
       "\n",
       "    .dataframe tbody tr th {\n",
       "        vertical-align: top;\n",
       "    }\n",
       "\n",
       "    .dataframe thead th {\n",
       "        text-align: right;\n",
       "    }\n",
       "</style>\n",
       "<table border=\"1\" class=\"dataframe\">\n",
       "  <thead>\n",
       "    <tr style=\"text-align: right;\">\n",
       "      <th></th>\n",
       "      <th>team1</th>\n",
       "      <th>team2</th>\n",
       "      <th>City</th>\n",
       "      <th>TossDecision</th>\n",
       "      <th>TossWin</th>\n",
       "      <th>Venue</th>\n",
       "      <th>WinningTeam</th>\n",
       "    </tr>\n",
       "  </thead>\n",
       "  <tbody>\n",
       "    <tr>\n",
       "      <th>0</th>\n",
       "      <td>SRH</td>\n",
       "      <td>RCB</td>\n",
       "      <td>7</td>\n",
       "      <td>field</td>\n",
       "      <td>RCB</td>\n",
       "      <td>Rajiv Gandhi International Stadium, Uppal</td>\n",
       "      <td>1</td>\n",
       "    </tr>\n",
       "    <tr>\n",
       "      <th>1</th>\n",
       "      <td>MI</td>\n",
       "      <td>RPS</td>\n",
       "      <td>24</td>\n",
       "      <td>field</td>\n",
       "      <td>RPS</td>\n",
       "      <td>Maharashtra Cricket Association Stadium</td>\n",
       "      <td>0</td>\n",
       "    </tr>\n",
       "    <tr>\n",
       "      <th>2</th>\n",
       "      <td>GL</td>\n",
       "      <td>KKR</td>\n",
       "      <td>30</td>\n",
       "      <td>field</td>\n",
       "      <td>KKR</td>\n",
       "      <td>Saurashtra Cricket Association Stadium</td>\n",
       "      <td>0</td>\n",
       "    </tr>\n",
       "    <tr>\n",
       "      <th>3</th>\n",
       "      <td>RPS</td>\n",
       "      <td>KXIP</td>\n",
       "      <td>22</td>\n",
       "      <td>field</td>\n",
       "      <td>KXIP</td>\n",
       "      <td>Holkar Cricket Stadium</td>\n",
       "      <td>0</td>\n",
       "    </tr>\n",
       "    <tr>\n",
       "      <th>4</th>\n",
       "      <td>RCB</td>\n",
       "      <td>DD</td>\n",
       "      <td>1</td>\n",
       "      <td>bat</td>\n",
       "      <td>RCB</td>\n",
       "      <td>M Chinnaswamy Stadium</td>\n",
       "      <td>1</td>\n",
       "    </tr>\n",
       "  </tbody>\n",
       "</table>\n",
       "</div>"
      ],
      "text/plain": [
       "  team1 team2  City TossDecision TossWin  \\\n",
       "0   SRH   RCB     7        field     RCB   \n",
       "1    MI   RPS    24        field     RPS   \n",
       "2    GL   KKR    30        field     KKR   \n",
       "3   RPS  KXIP    22        field    KXIP   \n",
       "4   RCB    DD     1          bat     RCB   \n",
       "\n",
       "                                       Venue  WinningTeam  \n",
       "0  Rajiv Gandhi International Stadium, Uppal            1  \n",
       "1    Maharashtra Cricket Association Stadium            0  \n",
       "2     Saurashtra Cricket Association Stadium            0  \n",
       "3                     Holkar Cricket Stadium            0  \n",
       "4                      M Chinnaswamy Stadium            1  "
      ]
     },
     "execution_count": 40,
     "metadata": {},
     "output_type": "execute_result"
    }
   ],
   "source": [
    "matches[\"WinningTeam\"] = np.where(matches[\"WinningTeam\"] == matches[\"team1\"], 1, 0)\n",
    "matches.head()"
   ]
  },
  {
   "cell_type": "code",
   "execution_count": 41,
   "id": "179e6474",
   "metadata": {},
   "outputs": [
    {
     "data": {
      "text/html": [
       "<div>\n",
       "<style scoped>\n",
       "    .dataframe tbody tr th:only-of-type {\n",
       "        vertical-align: middle;\n",
       "    }\n",
       "\n",
       "    .dataframe tbody tr th {\n",
       "        vertical-align: top;\n",
       "    }\n",
       "\n",
       "    .dataframe thead th {\n",
       "        text-align: right;\n",
       "    }\n",
       "</style>\n",
       "<table border=\"1\" class=\"dataframe\">\n",
       "  <thead>\n",
       "    <tr style=\"text-align: right;\">\n",
       "      <th></th>\n",
       "      <th>team1</th>\n",
       "      <th>team2</th>\n",
       "      <th>City</th>\n",
       "      <th>TossDecision</th>\n",
       "      <th>TossWin</th>\n",
       "      <th>Venue</th>\n",
       "      <th>WinningTeam</th>\n",
       "    </tr>\n",
       "  </thead>\n",
       "  <tbody>\n",
       "    <tr>\n",
       "      <th>0</th>\n",
       "      <td>SRH</td>\n",
       "      <td>RCB</td>\n",
       "      <td>7</td>\n",
       "      <td>0</td>\n",
       "      <td>RCB</td>\n",
       "      <td>Rajiv Gandhi International Stadium, Uppal</td>\n",
       "      <td>1</td>\n",
       "    </tr>\n",
       "    <tr>\n",
       "      <th>1</th>\n",
       "      <td>MI</td>\n",
       "      <td>RPS</td>\n",
       "      <td>24</td>\n",
       "      <td>0</td>\n",
       "      <td>RPS</td>\n",
       "      <td>Maharashtra Cricket Association Stadium</td>\n",
       "      <td>0</td>\n",
       "    </tr>\n",
       "  </tbody>\n",
       "</table>\n",
       "</div>"
      ],
      "text/plain": [
       "  team1 team2  City  TossDecision TossWin  \\\n",
       "0   SRH   RCB     7             0     RCB   \n",
       "1    MI   RPS    24             0     RPS   \n",
       "\n",
       "                                       Venue  WinningTeam  \n",
       "0  Rajiv Gandhi International Stadium, Uppal            1  \n",
       "1    Maharashtra Cricket Association Stadium            0  "
      ]
     },
     "execution_count": 41,
     "metadata": {},
     "output_type": "execute_result"
    }
   ],
   "source": [
    "matches['TossDecision'] = matches['TossDecision'].map({'field':0,'bat':1})\n",
    "matches.head(2)"
   ]
  },
  {
   "cell_type": "code",
   "execution_count": 42,
   "id": "0cba370c",
   "metadata": {},
   "outputs": [
    {
     "data": {
      "text/html": [
       "<div>\n",
       "<style scoped>\n",
       "    .dataframe tbody tr th:only-of-type {\n",
       "        vertical-align: middle;\n",
       "    }\n",
       "\n",
       "    .dataframe tbody tr th {\n",
       "        vertical-align: top;\n",
       "    }\n",
       "\n",
       "    .dataframe thead th {\n",
       "        text-align: right;\n",
       "    }\n",
       "</style>\n",
       "<table border=\"1\" class=\"dataframe\">\n",
       "  <thead>\n",
       "    <tr style=\"text-align: right;\">\n",
       "      <th></th>\n",
       "      <th>team1</th>\n",
       "      <th>team2</th>\n",
       "      <th>City</th>\n",
       "      <th>TossDecision</th>\n",
       "      <th>TossWin</th>\n",
       "      <th>Venue</th>\n",
       "      <th>WinningTeam</th>\n",
       "    </tr>\n",
       "  </thead>\n",
       "  <tbody>\n",
       "    <tr>\n",
       "      <th>0</th>\n",
       "      <td>7</td>\n",
       "      <td>1</td>\n",
       "      <td>7</td>\n",
       "      <td>0</td>\n",
       "      <td>1</td>\n",
       "      <td>Rajiv Gandhi International Stadium, Uppal</td>\n",
       "      <td>1</td>\n",
       "    </tr>\n",
       "    <tr>\n",
       "      <th>1</th>\n",
       "      <td>3</td>\n",
       "      <td>10</td>\n",
       "      <td>24</td>\n",
       "      <td>0</td>\n",
       "      <td>10</td>\n",
       "      <td>Maharashtra Cricket Association Stadium</td>\n",
       "      <td>0</td>\n",
       "    </tr>\n",
       "    <tr>\n",
       "      <th>2</th>\n",
       "      <td>9</td>\n",
       "      <td>4</td>\n",
       "      <td>30</td>\n",
       "      <td>0</td>\n",
       "      <td>4</td>\n",
       "      <td>Saurashtra Cricket Association Stadium</td>\n",
       "      <td>0</td>\n",
       "    </tr>\n",
       "    <tr>\n",
       "      <th>3</th>\n",
       "      <td>10</td>\n",
       "      <td>6</td>\n",
       "      <td>22</td>\n",
       "      <td>0</td>\n",
       "      <td>6</td>\n",
       "      <td>Holkar Cricket Stadium</td>\n",
       "      <td>0</td>\n",
       "    </tr>\n",
       "    <tr>\n",
       "      <th>4</th>\n",
       "      <td>1</td>\n",
       "      <td>8</td>\n",
       "      <td>1</td>\n",
       "      <td>1</td>\n",
       "      <td>1</td>\n",
       "      <td>M Chinnaswamy Stadium</td>\n",
       "      <td>1</td>\n",
       "    </tr>\n",
       "    <tr>\n",
       "      <th>5</th>\n",
       "      <td>9</td>\n",
       "      <td>7</td>\n",
       "      <td>7</td>\n",
       "      <td>0</td>\n",
       "      <td>7</td>\n",
       "      <td>Rajiv Gandhi International Stadium, Uppal</td>\n",
       "      <td>0</td>\n",
       "    </tr>\n",
       "    <tr>\n",
       "      <th>6</th>\n",
       "      <td>4</td>\n",
       "      <td>3</td>\n",
       "      <td>4</td>\n",
       "      <td>0</td>\n",
       "      <td>3</td>\n",
       "      <td>Wankhede Stadium</td>\n",
       "      <td>0</td>\n",
       "    </tr>\n",
       "    <tr>\n",
       "      <th>7</th>\n",
       "      <td>1</td>\n",
       "      <td>6</td>\n",
       "      <td>22</td>\n",
       "      <td>1</td>\n",
       "      <td>1</td>\n",
       "      <td>Holkar Cricket Stadium</td>\n",
       "      <td>0</td>\n",
       "    </tr>\n",
       "    <tr>\n",
       "      <th>8</th>\n",
       "      <td>8</td>\n",
       "      <td>10</td>\n",
       "      <td>24</td>\n",
       "      <td>0</td>\n",
       "      <td>10</td>\n",
       "      <td>Maharashtra Cricket Association Stadium</td>\n",
       "      <td>1</td>\n",
       "    </tr>\n",
       "    <tr>\n",
       "      <th>9</th>\n",
       "      <td>7</td>\n",
       "      <td>3</td>\n",
       "      <td>4</td>\n",
       "      <td>0</td>\n",
       "      <td>3</td>\n",
       "      <td>Wankhede Stadium</td>\n",
       "      <td>0</td>\n",
       "    </tr>\n",
       "  </tbody>\n",
       "</table>\n",
       "</div>"
      ],
      "text/plain": [
       "   team1  team2  City  TossDecision  TossWin  \\\n",
       "0      7      1     7             0        1   \n",
       "1      3     10    24             0       10   \n",
       "2      9      4    30             0        4   \n",
       "3     10      6    22             0        6   \n",
       "4      1      8     1             1        1   \n",
       "5      9      7     7             0        7   \n",
       "6      4      3     4             0        3   \n",
       "7      1      6    22             1        1   \n",
       "8      8     10    24             0       10   \n",
       "9      7      3     4             0        3   \n",
       "\n",
       "                                       Venue  WinningTeam  \n",
       "0  Rajiv Gandhi International Stadium, Uppal            1  \n",
       "1    Maharashtra Cricket Association Stadium            0  \n",
       "2     Saurashtra Cricket Association Stadium            0  \n",
       "3                     Holkar Cricket Stadium            0  \n",
       "4                      M Chinnaswamy Stadium            1  \n",
       "5  Rajiv Gandhi International Stadium, Uppal            0  \n",
       "6                           Wankhede Stadium            0  \n",
       "7                     Holkar Cricket Stadium            0  \n",
       "8    Maharashtra Cricket Association Stadium            1  \n",
       "9                           Wankhede Stadium            0  "
      ]
     },
     "execution_count": 42,
     "metadata": {},
     "output_type": "execute_result"
    }
   ],
   "source": [
    "matches['team1'] = matches['team1'].map({'CSK':0, 'RCB':1, 'DC':2, 'MI':3, 'KKR':4, 'RR':5, 'KXIP':6, 'SRH':7,'DD':8, 'GL': 9, 'RPS':10, 'KTK':11, 'PW':12,'DCS':13,'GT':14,'PK':15,'LSG':16})\n",
    "matches['team2'] = matches['team2'].map({'CSK':0, 'RCB':1, 'DC':2, 'MI':3, 'KKR':4, 'RR':5, 'KXIP':6, 'SRH':7, 'DD':8, 'GL': 9, 'RPS':10, 'KTK':11, 'PW':12,'DCS':13,'GT':14,'PK':15,'LSG':16})\n",
    "matches['TossWin'] = matches['TossWin'].map({'CSK':0, 'RCB':1, 'DC':2, 'MI':3, 'KKR':4, 'RR':5, 'KXIP':6, 'SRH':7, 'DD':8, 'GL': 9, 'RPS':10, 'KTK':11, 'PW':12,'DCS':13,'GT':14,'PK':15,'LSG':16})\n",
    "\n",
    "matches.head(10)"
   ]
  },
  {
   "cell_type": "code",
   "execution_count": 43,
   "id": "54f62339",
   "metadata": {},
   "outputs": [
    {
     "data": {
      "text/html": [
       "<div>\n",
       "<style scoped>\n",
       "    .dataframe tbody tr th:only-of-type {\n",
       "        vertical-align: middle;\n",
       "    }\n",
       "\n",
       "    .dataframe tbody tr th {\n",
       "        vertical-align: top;\n",
       "    }\n",
       "\n",
       "    .dataframe thead th {\n",
       "        text-align: right;\n",
       "    }\n",
       "</style>\n",
       "<table border=\"1\" class=\"dataframe\">\n",
       "  <thead>\n",
       "    <tr style=\"text-align: right;\">\n",
       "      <th></th>\n",
       "      <th>team1</th>\n",
       "      <th>team2</th>\n",
       "      <th>City</th>\n",
       "      <th>TossDecision</th>\n",
       "      <th>TossWin</th>\n",
       "      <th>WinningTeam</th>\n",
       "    </tr>\n",
       "  </thead>\n",
       "  <tbody>\n",
       "    <tr>\n",
       "      <th>0</th>\n",
       "      <td>7</td>\n",
       "      <td>1</td>\n",
       "      <td>7</td>\n",
       "      <td>0</td>\n",
       "      <td>1</td>\n",
       "      <td>1</td>\n",
       "    </tr>\n",
       "    <tr>\n",
       "      <th>1</th>\n",
       "      <td>3</td>\n",
       "      <td>10</td>\n",
       "      <td>24</td>\n",
       "      <td>0</td>\n",
       "      <td>10</td>\n",
       "      <td>0</td>\n",
       "    </tr>\n",
       "  </tbody>\n",
       "</table>\n",
       "</div>"
      ],
      "text/plain": [
       "   team1  team2  City  TossDecision  TossWin  WinningTeam\n",
       "0      7      1     7             0        1            1\n",
       "1      3     10    24             0       10            0"
      ]
     },
     "execution_count": 43,
     "metadata": {},
     "output_type": "execute_result"
    }
   ],
   "source": [
    "matches.drop(columns=['Venue'], inplace =True)\n",
    "matches.head(2)"
   ]
  },
  {
   "cell_type": "code",
   "execution_count": 44,
   "id": "fe596344",
   "metadata": {},
   "outputs": [
    {
     "data": {
      "text/html": [
       "<div>\n",
       "<style scoped>\n",
       "    .dataframe tbody tr th:only-of-type {\n",
       "        vertical-align: middle;\n",
       "    }\n",
       "\n",
       "    .dataframe tbody tr th {\n",
       "        vertical-align: top;\n",
       "    }\n",
       "\n",
       "    .dataframe thead th {\n",
       "        text-align: right;\n",
       "    }\n",
       "</style>\n",
       "<table border=\"1\" class=\"dataframe\">\n",
       "  <thead>\n",
       "    <tr style=\"text-align: right;\">\n",
       "      <th></th>\n",
       "      <th>team1</th>\n",
       "      <th>team2</th>\n",
       "      <th>City</th>\n",
       "      <th>TossDecision</th>\n",
       "      <th>TossWin</th>\n",
       "      <th>WinningTeam</th>\n",
       "    </tr>\n",
       "  </thead>\n",
       "  <tbody>\n",
       "    <tr>\n",
       "      <th>count</th>\n",
       "      <td>816.000000</td>\n",
       "      <td>816.000000</td>\n",
       "      <td>816.000000</td>\n",
       "      <td>816.000000</td>\n",
       "      <td>816.000000</td>\n",
       "      <td>816.000000</td>\n",
       "    </tr>\n",
       "    <tr>\n",
       "      <th>mean</th>\n",
       "      <td>4.525735</td>\n",
       "      <td>4.699755</td>\n",
       "      <td>9.528186</td>\n",
       "      <td>0.392157</td>\n",
       "      <td>4.558824</td>\n",
       "      <td>0.447304</td>\n",
       "    </tr>\n",
       "    <tr>\n",
       "      <th>std</th>\n",
       "      <td>3.233540</td>\n",
       "      <td>3.268260</td>\n",
       "      <td>9.002069</td>\n",
       "      <td>0.488531</td>\n",
       "      <td>3.269712</td>\n",
       "      <td>0.497520</td>\n",
       "    </tr>\n",
       "    <tr>\n",
       "      <th>min</th>\n",
       "      <td>0.000000</td>\n",
       "      <td>0.000000</td>\n",
       "      <td>1.000000</td>\n",
       "      <td>0.000000</td>\n",
       "      <td>0.000000</td>\n",
       "      <td>0.000000</td>\n",
       "    </tr>\n",
       "    <tr>\n",
       "      <th>25%</th>\n",
       "      <td>2.000000</td>\n",
       "      <td>2.000000</td>\n",
       "      <td>4.000000</td>\n",
       "      <td>0.000000</td>\n",
       "      <td>2.000000</td>\n",
       "      <td>0.000000</td>\n",
       "    </tr>\n",
       "    <tr>\n",
       "      <th>50%</th>\n",
       "      <td>4.000000</td>\n",
       "      <td>4.000000</td>\n",
       "      <td>5.000000</td>\n",
       "      <td>0.000000</td>\n",
       "      <td>4.000000</td>\n",
       "      <td>0.000000</td>\n",
       "    </tr>\n",
       "    <tr>\n",
       "      <th>75%</th>\n",
       "      <td>7.000000</td>\n",
       "      <td>7.000000</td>\n",
       "      <td>12.000000</td>\n",
       "      <td>1.000000</td>\n",
       "      <td>7.000000</td>\n",
       "      <td>1.000000</td>\n",
       "    </tr>\n",
       "    <tr>\n",
       "      <th>max</th>\n",
       "      <td>13.000000</td>\n",
       "      <td>13.000000</td>\n",
       "      <td>33.000000</td>\n",
       "      <td>1.000000</td>\n",
       "      <td>13.000000</td>\n",
       "      <td>1.000000</td>\n",
       "    </tr>\n",
       "  </tbody>\n",
       "</table>\n",
       "</div>"
      ],
      "text/plain": [
       "            team1       team2        City  TossDecision     TossWin  \\\n",
       "count  816.000000  816.000000  816.000000    816.000000  816.000000   \n",
       "mean     4.525735    4.699755    9.528186      0.392157    4.558824   \n",
       "std      3.233540    3.268260    9.002069      0.488531    3.269712   \n",
       "min      0.000000    0.000000    1.000000      0.000000    0.000000   \n",
       "25%      2.000000    2.000000    4.000000      0.000000    2.000000   \n",
       "50%      4.000000    4.000000    5.000000      0.000000    4.000000   \n",
       "75%      7.000000    7.000000   12.000000      1.000000    7.000000   \n",
       "max     13.000000   13.000000   33.000000      1.000000   13.000000   \n",
       "\n",
       "       WinningTeam  \n",
       "count   816.000000  \n",
       "mean      0.447304  \n",
       "std       0.497520  \n",
       "min       0.000000  \n",
       "25%       0.000000  \n",
       "50%       0.000000  \n",
       "75%       1.000000  \n",
       "max       1.000000  "
      ]
     },
     "execution_count": 44,
     "metadata": {},
     "output_type": "execute_result"
    }
   ],
   "source": [
    "matches.describe()"
   ]
  },
  {
   "cell_type": "code",
   "execution_count": 45,
   "id": "855d5988",
   "metadata": {},
   "outputs": [],
   "source": [
    "# data for training purpose\n",
    "\n",
    "x=matches[['team1', 'team2', 'City']]\n",
    "y=matches[['WinningTeam']]\n",
    "from sklearn.preprocessing import StandardScaler\n",
    "from sklearn.model_selection import train_test_split, GridSearchCV \n",
    "scaler=StandardScaler()\n",
    "scaled_data=scaler.fit_transform(x)\n",
    "train_x,test_x,train_y,test_y=train_test_split(scaled_data,y,test_size=0.2,random_state=49)"
   ]
  },
  {
   "cell_type": "markdown",
   "id": "4d6855c8",
   "metadata": {},
   "source": [
    "# Testing Data "
   ]
  },
  {
   "cell_type": "code",
   "execution_count": 103,
   "id": "a8ee1b29",
   "metadata": {},
   "outputs": [
    {
     "data": {
      "text/html": [
       "<div>\n",
       "<style scoped>\n",
       "    .dataframe tbody tr th:only-of-type {\n",
       "        vertical-align: middle;\n",
       "    }\n",
       "\n",
       "    .dataframe tbody tr th {\n",
       "        vertical-align: top;\n",
       "    }\n",
       "\n",
       "    .dataframe thead th {\n",
       "        text-align: right;\n",
       "    }\n",
       "</style>\n",
       "<table border=\"1\" class=\"dataframe\">\n",
       "  <thead>\n",
       "    <tr style=\"text-align: right;\">\n",
       "      <th></th>\n",
       "      <th>id</th>\n",
       "      <th>Season</th>\n",
       "      <th>City</th>\n",
       "      <th>date</th>\n",
       "      <th>team1</th>\n",
       "      <th>team2</th>\n",
       "      <th>TossWin</th>\n",
       "      <th>TossDecision</th>\n",
       "      <th>result</th>\n",
       "      <th>dl_applied</th>\n",
       "      <th>win_by_runs</th>\n",
       "      <th>win_by_wickets</th>\n",
       "      <th>Player_of_Match</th>\n",
       "      <th>Venue</th>\n",
       "      <th>umpire1</th>\n",
       "      <th>umpire2</th>\n",
       "      <th>umpire3</th>\n",
       "    </tr>\n",
       "  </thead>\n",
       "  <tbody>\n",
       "    <tr>\n",
       "      <th>0</th>\n",
       "      <td>1</td>\n",
       "      <td>2021</td>\n",
       "      <td>Dubai</td>\n",
       "      <td>12-07-2019</td>\n",
       "      <td>Chennai Super Kings</td>\n",
       "      <td>Kolkata Knight Riders</td>\n",
       "      <td>Kolkata Knight Riders</td>\n",
       "      <td>field</td>\n",
       "      <td>normal</td>\n",
       "      <td>0</td>\n",
       "      <td>27</td>\n",
       "      <td>0</td>\n",
       "      <td>F du Plessis</td>\n",
       "      <td>Dubai International Cricket Stadium</td>\n",
       "      <td>Nitin Menon</td>\n",
       "      <td>RK Illingworth</td>\n",
       "      <td>NaN</td>\n",
       "    </tr>\n",
       "    <tr>\n",
       "      <th>1</th>\n",
       "      <td>2</td>\n",
       "      <td>2021</td>\n",
       "      <td>Sharjah</td>\n",
       "      <td>13-07-2019</td>\n",
       "      <td>Delhi Capitals</td>\n",
       "      <td>Kolkata Knight Riders</td>\n",
       "      <td>Kolkata Knight Riders</td>\n",
       "      <td>field</td>\n",
       "      <td>normal</td>\n",
       "      <td>0</td>\n",
       "      <td>0</td>\n",
       "      <td>3</td>\n",
       "      <td>VR Iyer</td>\n",
       "      <td>Sharjah Cricket Stadium</td>\n",
       "      <td>KN Ananthapadmanabhan</td>\n",
       "      <td>MA Gough</td>\n",
       "      <td>NaN</td>\n",
       "    </tr>\n",
       "    <tr>\n",
       "      <th>2</th>\n",
       "      <td>3</td>\n",
       "      <td>2021</td>\n",
       "      <td>Sharjah</td>\n",
       "      <td>14-07-2019</td>\n",
       "      <td>Royal Challengers Bangalore</td>\n",
       "      <td>Kolkata Knight Riders</td>\n",
       "      <td>Royal Challengers Bangalore</td>\n",
       "      <td>bat</td>\n",
       "      <td>normal</td>\n",
       "      <td>0</td>\n",
       "      <td>0</td>\n",
       "      <td>4</td>\n",
       "      <td>SP Narine</td>\n",
       "      <td>Sharjah Cricket Stadium</td>\n",
       "      <td>CB Gaffaney</td>\n",
       "      <td>VK Sharma</td>\n",
       "      <td>NaN</td>\n",
       "    </tr>\n",
       "    <tr>\n",
       "      <th>3</th>\n",
       "      <td>4</td>\n",
       "      <td>2021</td>\n",
       "      <td>Dubai</td>\n",
       "      <td>15-07-2019</td>\n",
       "      <td>Delhi Capitals</td>\n",
       "      <td>Chennai Super Kings</td>\n",
       "      <td>Chennai Super Kings</td>\n",
       "      <td>field</td>\n",
       "      <td>normal</td>\n",
       "      <td>0</td>\n",
       "      <td>0</td>\n",
       "      <td>3</td>\n",
       "      <td>RD Gaikwad</td>\n",
       "      <td>Dubai International Cricket Stadium</td>\n",
       "      <td>Nitin Menon</td>\n",
       "      <td>RK Illingworth</td>\n",
       "      <td>NaN</td>\n",
       "    </tr>\n",
       "    <tr>\n",
       "      <th>4</th>\n",
       "      <td>5</td>\n",
       "      <td>2021</td>\n",
       "      <td>Dubai</td>\n",
       "      <td>16-07-2019</td>\n",
       "      <td>Delhi Capitals</td>\n",
       "      <td>Royal Challengers Bangalore</td>\n",
       "      <td>Royal Challengers Bangalore</td>\n",
       "      <td>field</td>\n",
       "      <td>normal</td>\n",
       "      <td>0</td>\n",
       "      <td>0</td>\n",
       "      <td>7</td>\n",
       "      <td>KS Bharat</td>\n",
       "      <td>Dubai International Cricket Stadium</td>\n",
       "      <td>KN Ananthapadmanabhan</td>\n",
       "      <td>Nitin Menon</td>\n",
       "      <td>NaN</td>\n",
       "    </tr>\n",
       "  </tbody>\n",
       "</table>\n",
       "</div>"
      ],
      "text/plain": [
       "   id  Season     City        date                        team1  \\\n",
       "0   1    2021    Dubai  12-07-2019          Chennai Super Kings   \n",
       "1   2    2021  Sharjah  13-07-2019               Delhi Capitals   \n",
       "2   3    2021  Sharjah  14-07-2019  Royal Challengers Bangalore   \n",
       "3   4    2021    Dubai  15-07-2019               Delhi Capitals   \n",
       "4   5    2021    Dubai  16-07-2019               Delhi Capitals   \n",
       "\n",
       "                         team2                      TossWin TossDecision  \\\n",
       "0        Kolkata Knight Riders        Kolkata Knight Riders        field   \n",
       "1        Kolkata Knight Riders        Kolkata Knight Riders        field   \n",
       "2        Kolkata Knight Riders  Royal Challengers Bangalore          bat   \n",
       "3          Chennai Super Kings          Chennai Super Kings        field   \n",
       "4  Royal Challengers Bangalore  Royal Challengers Bangalore        field   \n",
       "\n",
       "   result  dl_applied  win_by_runs  win_by_wickets Player_of_Match  \\\n",
       "0  normal           0           27               0    F du Plessis   \n",
       "1  normal           0            0               3         VR Iyer   \n",
       "2  normal           0            0               4       SP Narine   \n",
       "3  normal           0            0               3      RD Gaikwad   \n",
       "4  normal           0            0               7       KS Bharat   \n",
       "\n",
       "                                 Venue                umpire1         umpire2  \\\n",
       "0  Dubai International Cricket Stadium            Nitin Menon  RK Illingworth   \n",
       "1              Sharjah Cricket Stadium  KN Ananthapadmanabhan        MA Gough   \n",
       "2              Sharjah Cricket Stadium            CB Gaffaney       VK Sharma   \n",
       "3  Dubai International Cricket Stadium            Nitin Menon  RK Illingworth   \n",
       "4  Dubai International Cricket Stadium  KN Ananthapadmanabhan     Nitin Menon   \n",
       "\n",
       "   umpire3  \n",
       "0      NaN  \n",
       "1      NaN  \n",
       "2      NaN  \n",
       "3      NaN  \n",
       "4      NaN  "
      ]
     },
     "execution_count": 103,
     "metadata": {},
     "output_type": "execute_result"
    }
   ],
   "source": [
    "# for testing the data\n",
    "matches_testdata= pd.read_csv(\"C:\\\\Users\\\\Preeti\\\\Downloads\\\\Matces_testdata.csv\")\n",
    "matches_testdata.head()   "
   ]
  },
  {
   "cell_type": "code",
   "execution_count": 104,
   "id": "cd4b6a8f",
   "metadata": {},
   "outputs": [],
   "source": [
    "testdata = matches_testdata.copy()\n",
    "# testdata.iloc[18, 4]\n",
    "# testdata[testdata['team2']=='Kolkata Knight Riders']\n"
   ]
  },
  {
   "cell_type": "code",
   "execution_count": 105,
   "id": "3971075d",
   "metadata": {},
   "outputs": [],
   "source": [
    "\n",
    "testdata.replace(['Chennai Super Kings', 'Delhi Capitals',\n",
    "       'Royal Challengers Bangalore', 'Mumbai Indians',\n",
    "       'Kolkata Knight Riders', 'Sunrisers Hyderabad', 'Rajasthan Royals',\n",
    "       'Punjab Kings']\n",
    "                ,['CSK','DC','RCB','MI','KKR','SRH','RR','PK'],inplace=True)\n",
    "# testdata['team1']\n",
    "# testdata['team2']\n",
    "# testdata['team1'].nunique()"
   ]
  },
  {
   "cell_type": "code",
   "execution_count": 106,
   "id": "1be8baa6",
   "metadata": {},
   "outputs": [
    {
     "data": {
      "text/plain": [
       "id                  0\n",
       "Season              0\n",
       "City                0\n",
       "date                0\n",
       "team1               0\n",
       "team2               0\n",
       "TossWin             0\n",
       "TossDecision        0\n",
       "result              0\n",
       "dl_applied          0\n",
       "win_by_runs         0\n",
       "win_by_wickets      0\n",
       "Player_of_Match     0\n",
       "Venue               0\n",
       "umpire1             0\n",
       "umpire2             0\n",
       "umpire3            60\n",
       "dtype: int64"
      ]
     },
     "execution_count": 106,
     "metadata": {},
     "output_type": "execute_result"
    }
   ],
   "source": [
    "testdata.isnull().sum()"
   ]
  },
  {
   "cell_type": "code",
   "execution_count": 107,
   "id": "252c7ba4",
   "metadata": {},
   "outputs": [],
   "source": [
    "testdata.drop(['id','Season','date','TossWin','TossDecision','result','Player_of_Match','Venue','umpire1','umpire2','umpire3','win_by_runs','win_by_wickets','dl_applied'],axis=1,inplace=True)\n"
   ]
  },
  {
   "cell_type": "code",
   "execution_count": 108,
   "id": "a43777dd",
   "metadata": {},
   "outputs": [],
   "source": [
    "test_copy = matches_testdata.copy()"
   ]
  },
  {
   "cell_type": "code",
   "execution_count": 109,
   "id": "f28bc741",
   "metadata": {},
   "outputs": [
    {
     "data": {
      "text/html": [
       "<div>\n",
       "<style scoped>\n",
       "    .dataframe tbody tr th:only-of-type {\n",
       "        vertical-align: middle;\n",
       "    }\n",
       "\n",
       "    .dataframe tbody tr th {\n",
       "        vertical-align: top;\n",
       "    }\n",
       "\n",
       "    .dataframe thead th {\n",
       "        text-align: right;\n",
       "    }\n",
       "</style>\n",
       "<table border=\"1\" class=\"dataframe\">\n",
       "  <thead>\n",
       "    <tr style=\"text-align: right;\">\n",
       "      <th></th>\n",
       "      <th>City</th>\n",
       "      <th>team1</th>\n",
       "      <th>team2</th>\n",
       "    </tr>\n",
       "  </thead>\n",
       "  <tbody>\n",
       "    <tr>\n",
       "      <th>0</th>\n",
       "      <td>1</td>\n",
       "      <td>0</td>\n",
       "      <td>4</td>\n",
       "    </tr>\n",
       "    <tr>\n",
       "      <th>1</th>\n",
       "      <td>2</td>\n",
       "      <td>2</td>\n",
       "      <td>4</td>\n",
       "    </tr>\n",
       "    <tr>\n",
       "      <th>2</th>\n",
       "      <td>2</td>\n",
       "      <td>1</td>\n",
       "      <td>4</td>\n",
       "    </tr>\n",
       "    <tr>\n",
       "      <th>3</th>\n",
       "      <td>1</td>\n",
       "      <td>2</td>\n",
       "      <td>0</td>\n",
       "    </tr>\n",
       "    <tr>\n",
       "      <th>4</th>\n",
       "      <td>1</td>\n",
       "      <td>2</td>\n",
       "      <td>1</td>\n",
       "    </tr>\n",
       "  </tbody>\n",
       "</table>\n",
       "</div>"
      ],
      "text/plain": [
       "   City  team1  team2\n",
       "0     1      0      4\n",
       "1     2      2      4\n",
       "2     2      1      4\n",
       "3     1      2      0\n",
       "4     1      2      1"
      ]
     },
     "execution_count": 109,
     "metadata": {},
     "output_type": "execute_result"
    }
   ],
   "source": [
    "testdata.replace(['Dubai', 'Sharjah', 'Abu Dhabi', 'Ahmedabad', 'Delhi', 'Chennai',\n",
    "       'Mumbai'],[1, 2, 3, 4, 5, 6, 7],inplace=True)\n",
    "\n",
    "\n",
    "testdata['team1'] = testdata['team1'].map({'CSK':0, 'RCB':1, 'DC':2, 'MI':3, 'KKR':4, 'RR':5, 'PK':6, 'SRH':7})\n",
    "testdata['team2'] = testdata['team2'].map({'CSK':0, 'RCB':1, 'DC':2, 'MI':3, 'KKR':4, 'RR':5, 'PK':6, 'SRH':7})\n",
    "testdata.head()"
   ]
  },
  {
   "cell_type": "markdown",
   "id": "18bf22b6",
   "metadata": {},
   "source": [
    "# Trainig Models"
   ]
  },
  {
   "cell_type": "markdown",
   "id": "c4fbf99f",
   "metadata": {},
   "source": [
    "1.LOGISTIC REGRESSION:-"
   ]
  },
  {
   "cell_type": "code",
   "execution_count": 110,
   "id": "7d016344",
   "metadata": {},
   "outputs": [
    {
     "data": {
      "text/plain": [
       "0.5612745098039216"
      ]
     },
     "execution_count": 110,
     "metadata": {},
     "output_type": "execute_result"
    }
   ],
   "source": [
    "from sklearn.metrics import accuracy_score\n",
    "from sklearn.metrics import classification_report\n",
    "from sklearn.linear_model import LogisticRegression\n",
    "model1=LogisticRegression()\n",
    "model1.fit(x,y)\n",
    "pred=model1.predict(x)\n",
    "model1.score(x,y)"
   ]
  },
  {
   "cell_type": "code",
   "execution_count": 111,
   "id": "293fac77",
   "metadata": {},
   "outputs": [
    {
     "name": "stdout",
     "output_type": "stream",
     "text": [
      "0.553680981595092\n"
     ]
    },
    {
     "data": {
      "text/plain": [
       "0.553680981595092"
      ]
     },
     "execution_count": 111,
     "metadata": {},
     "output_type": "execute_result"
    }
   ],
   "source": [
    "model1.fit(train_x, train_y)# for logistic regression model\n",
    "# cheking training accuracy\n",
    "y_pred = model1.predict(train_x)\n",
    "predictions = [round(value) for value in y_pred]\n",
    "accuracy = accuracy_score(train_y,predictions)\n",
    "print(model1.score(train_x, train_y))\n",
    "accuracy"
   ]
  },
  {
   "cell_type": "code",
   "execution_count": 112,
   "id": "778f804e",
   "metadata": {},
   "outputs": [
    {
     "name": "stdout",
     "output_type": "stream",
     "text": [
      "0.5609756097560976\n"
     ]
    },
    {
     "data": {
      "text/plain": [
       "0.5609756097560976"
      ]
     },
     "execution_count": 112,
     "metadata": {},
     "output_type": "execute_result"
    }
   ],
   "source": [
    "# cheking initial test accuracy # for logistic regression model\n",
    "y_pred = model1.predict(test_x)\n",
    "predictions = [round(value) for value in y_pred]\n",
    "accuracy = accuracy_score(test_y,predictions)\n",
    "accuracy\n",
    "print(model1.score(test_x,test_y))\n",
    "accuracy"
   ]
  },
  {
   "cell_type": "code",
   "execution_count": 113,
   "id": "cdb69008",
   "metadata": {},
   "outputs": [
    {
     "name": "stdout",
     "output_type": "stream",
     "text": [
      "              precision    recall  f1-score   support\n",
      "\n",
      "           0       0.57      0.84      0.68        92\n",
      "           1       0.50      0.21      0.29        72\n",
      "\n",
      "    accuracy                           0.56       164\n",
      "   macro avg       0.54      0.52      0.49       164\n",
      "weighted avg       0.54      0.56      0.51       164\n",
      "\n",
      "0.5226449275362318\n"
     ]
    },
    {
     "data": {
      "image/png": "[encoded data removed]",
      "text/plain": [
       "<Figure size 800x1000 with 2 Axes>"
      ]
     },
     "metadata": {
      "needs_background": "light"
     },
     "output_type": "display_data"
    }
   ],
   "source": [
    "from sklearn.metrics import accuracy_score , roc_curve, roc_auc_score,confusion_matrix\n",
    "from sklearn.metrics import classification_report\n",
    "predictions = [round(value) for value in y_pred]\n",
    "auc_logis = roc_auc_score(test_y, predictions)\n",
    "print(classification_report(test_y,predictions))# for logistic regression model\n",
    "print(auc_logis)\n",
    "cm=confusion_matrix(test_y,predictions)\n",
    "plt.imshow(cm, interpolation='nearest', cmap=plt.cm.Blues)\n",
    "plt.colorbar()\n",
    "plt.xlabel('Predicted Label')\n",
    "plt.ylabel('True Label')\n",
    "plt.show()\n",
    "plt.show()\n"
   ]
  },
  {
   "cell_type": "markdown",
   "id": "1871209d",
   "metadata": {},
   "source": [
    "2.XGBOOST REGRESSOR MODEL:-"
   ]
  },
  {
   "cell_type": "code",
   "execution_count": 114,
   "id": "33499122",
   "metadata": {},
   "outputs": [],
   "source": [
    "import xgboost as xgb\n",
    "import pickle\n",
    "from sklearn import datasets\n",
    "from xgboost import XGBClassifier\n",
    "# from sklearn.metrics import accuracy_score , roc_curve, roc_auc_score,confusion_matrix\n",
    "# from sklearn.metrics import classification_report"
   ]
  },
  {
   "cell_type": "code",
   "execution_count": 115,
   "id": "8c54aaba",
   "metadata": {},
   "outputs": [
    {
     "name": "stdout",
     "output_type": "stream",
     "text": [
      "0.6499470038899121\n"
     ]
    },
    {
     "data": {
      "text/plain": [
       "0.553680981595092"
      ]
     },
     "execution_count": 115,
     "metadata": {},
     "output_type": "execute_result"
    }
   ],
   "source": [
    "# for XGBoost model\n",
    "xgb=xgb.XGBRegressor()\n",
    "xgb.fit(train_x,train_y)\n",
    "pred_yxgb=xgb.predict(test_x)\n",
    "print(xgb.score(train_x,train_y))\n",
    "model1.score(train_x,train_y)"
   ]
  },
  {
   "cell_type": "code",
   "execution_count": 116,
   "id": "63acfa1a",
   "metadata": {},
   "outputs": [
    {
     "data": {
      "text/plain": [
       "0.4878048780487805"
      ]
     },
     "execution_count": 116,
     "metadata": {},
     "output_type": "execute_result"
    }
   ],
   "source": [
    "# cheking initial test accuracy # for XGBoost model\n",
    "y_pred = xgb.predict(test_x)\n",
    "predictions = [round(value) for value in pred_yxgb]\n",
    "accuracy = accuracy_score(test_y,predictions)\n",
    "accuracy"
   ]
  },
  {
   "cell_type": "code",
   "execution_count": 117,
   "id": "d674c5d4",
   "metadata": {},
   "outputs": [
    {
     "name": "stdout",
     "output_type": "stream",
     "text": [
      "              precision    recall  f1-score   support\n",
      "\n",
      "           0       0.56      0.41      0.47        92\n",
      "           1       0.44      0.58      0.50        72\n",
      "\n",
      "    accuracy                           0.49       164\n",
      "   macro avg       0.50      0.50      0.49       164\n",
      "weighted avg       0.51      0.49      0.49       164\n",
      "\n"
     ]
    },
    {
     "data": {
      "text/plain": [
       "0.4981884057971015"
      ]
     },
     "execution_count": 117,
     "metadata": {},
     "output_type": "execute_result"
    }
   ],
   "source": [
    "# for XGBoost model\n",
    "predictions = [round(value) for value in y_pred]\n",
    "auc_xgb = roc_auc_score(test_y, predictions)\n",
    "print(classification_report(test_y,predictions))\n",
    "auc_xgb"
   ]
  },
  {
   "cell_type": "markdown",
   "id": "05d04053",
   "metadata": {},
   "source": [
    "3.K-Fold cross validation"
   ]
  },
  {
   "cell_type": "code",
   "execution_count": 118,
   "id": "2e3c437f",
   "metadata": {},
   "outputs": [],
   "source": [
    "# from sklearn.preprocessing import StandardScaler\n",
    "from sklearn.feature_selection import VarianceThreshold\n",
    "from sklearn.feature_selection import SelectFromModel\n",
    "from sklearn.model_selection import KFold   #For K-fold cross validation\n",
    "from sklearn.pipeline import Pipeline\n",
    "from sklearn.model_selection import StratifiedKFold\n",
    "from sklearn.model_selection import cross_val_score"
   ]
  },
  {
   "cell_type": "code",
   "execution_count": 119,
   "id": "60626bb6",
   "metadata": {},
   "outputs": [],
   "source": [
    "from sklearn.ensemble import RandomForestClassifier\n",
    "from sklearn.tree import DecisionTreeClassifier, export_graphviz\n",
    "from sklearn import metrics\n",
    "from sklearn.svm import SVC\n",
    "\n",
    "#Generic function for making a classification model and accessing performance:\n",
    "def classification_model(model, data, predictors, outcome):\n",
    "  model.fit(data[predictors],data[outcome])\n",
    "  predictions = model.predict(data[predictors])\n",
    "  accuracy = metrics.accuracy_score(predictions,data[outcome])\n",
    "  print('Accuracy : %s' % '{0:.3%}'.format(accuracy))\n",
    "  kf = KFold(data.shape[0], n_folds=7)\n",
    "  error = []\n",
    "  for train, test in kf:\n",
    "    train_predictors = (data[predictors].iloc[train,:])\n",
    "    train_target = data[outcome].iloc[train]\n",
    "    model.fit(train_predictors, train_target)\n",
    "    error.append(model.score(data[predictors].iloc[test,:], data[outcome].iloc[test]))\n",
    " \n",
    "  print('Cross-Validation Score : %s' % '{0:.3%}'.format(np.mean(error)))\n",
    "\n",
    "  model.fit(data[predictors],data[outcome]) "
   ]
  },
  {
   "cell_type": "code",
   "execution_count": 120,
   "id": "c4742f31",
   "metadata": {},
   "outputs": [],
   "source": [
    "# model=xgb.XGBRegressor()\n",
    "# outcome_var= train_y\n",
    "# predictor_var = train_x\n",
    "# df=[train_x, train_y]\n",
    "# model = LogisticRegression()\n",
    "# classification_model(model, df,predictor_var,outcome_var)"
   ]
  },
  {
   "cell_type": "markdown",
   "id": "44fe656a",
   "metadata": {},
   "source": [
    "3.SVM MODEL:-"
   ]
  },
  {
   "cell_type": "code",
   "execution_count": 121,
   "id": "cd069ab8",
   "metadata": {},
   "outputs": [
    {
     "name": "stdout",
     "output_type": "stream",
     "text": [
      "              precision    recall  f1-score   support\n",
      "\n",
      "           0       0.58      0.87      0.70        92\n",
      "           1       0.54      0.19      0.29        72\n",
      "\n",
      "    accuracy                           0.57       164\n",
      "   macro avg       0.56      0.53      0.49       164\n",
      "weighted avg       0.56      0.57      0.52       164\n",
      "\n",
      "Accuracy of SVM classifier on train set: 0.5996932515337423\n",
      "Accuracy of SVM classifier on test set: 57.3171\n"
     ]
    },
    {
     "data": {
      "text/plain": [
       "0.5320048309178743"
      ]
     },
     "execution_count": 121,
     "metadata": {},
     "output_type": "execute_result"
    }
   ],
   "source": [
    "#SVM\n",
    "svm=SVC()\n",
    "svm.fit(train_x,train_y)\n",
    "svm.score(test_x,test_y)\n",
    "y_pred = svm.predict(test_x)\n",
    "predictions = [round(value) for value in y_pred]\n",
    "auc_svc = roc_auc_score(test_y, predictions)\n",
    "#print(confusion_matrix(test_x,y_pred))\n",
    "print(classification_report(test_y,y_pred))\n",
    "print(\"Accuracy of SVM classifier on train set:\", svm.score(train_x,train_y))\n",
    "print('Accuracy of SVM classifier on test set: {:.4f}'.format(svm.score(test_x,test_y)*100))\n",
    "auc_svc"
   ]
  },
  {
   "cell_type": "markdown",
   "id": "3e163994",
   "metadata": {},
   "source": [
    "4.DECISION TREE CLASSIFIER:-"
   ]
  },
  {
   "cell_type": "code",
   "execution_count": 122,
   "id": "6739dc39",
   "metadata": {},
   "outputs": [
    {
     "name": "stdout",
     "output_type": "stream",
     "text": [
      "[[49 43]\n",
      " [41 31]]\n",
      "              precision    recall  f1-score   support\n",
      "\n",
      "           0       0.54      0.53      0.54        92\n",
      "           1       0.42      0.43      0.42        72\n",
      "\n",
      "    accuracy                           0.49       164\n",
      "   macro avg       0.48      0.48      0.48       164\n",
      "weighted avg       0.49      0.49      0.49       164\n",
      "\n",
      "Accuracy of Decision Tree classifier on train set: 0.8619631901840491\n",
      "Accuracy of decision tree classifier on test set: 48.7805\n"
     ]
    },
    {
     "data": {
      "text/plain": [
       "0.4815821256038647"
      ]
     },
     "execution_count": 122,
     "metadata": {},
     "output_type": "execute_result"
    }
   ],
   "source": [
    "#Decision Tree Classifier\n",
    "dtree=DecisionTreeClassifier()\n",
    "dtree.fit(train_x,train_y)\n",
    "dtree.score(test_x,test_y)\n",
    "y_pred = dtree.predict(test_x)\n",
    "predictions = [round(value) for value in y_pred]\n",
    "auc_dtree = roc_auc_score(test_y, predictions)\n",
    "print(confusion_matrix(test_y, predictions))\n",
    "print(classification_report(test_y,predictions))\n",
    "print(\"Accuracy of Decision Tree classifier on train set:\", dtree.score(train_x,train_y))\n",
    "print('Accuracy of decision tree classifier on test set: {:.4f}'.format(dtree.score(test_x,test_y)*100))\n",
    "auc_dtree"
   ]
  },
  {
   "cell_type": "markdown",
   "id": "bd8b2d1d",
   "metadata": {},
   "source": [
    "5.RANDOM FOREST CLASSIFIER:-"
   ]
  },
  {
   "cell_type": "code",
   "execution_count": 123,
   "id": "f2ea3920",
   "metadata": {},
   "outputs": [
    {
     "name": "stdout",
     "output_type": "stream",
     "text": [
      "[[44 48]\n",
      " [37 35]]\n",
      "              precision    recall  f1-score   support\n",
      "\n",
      "           0       0.54      0.48      0.51        92\n",
      "           1       0.42      0.49      0.45        72\n",
      "\n",
      "    accuracy                           0.48       164\n",
      "   macro avg       0.48      0.48      0.48       164\n",
      "weighted avg       0.49      0.48      0.48       164\n",
      "\n",
      "Accuracy of Random Forest classifier on train set: 0.8619631901840491\n",
      "Accuracy of Random Forest classifier on test set: 48.1707\n"
     ]
    },
    {
     "data": {
      "text/plain": [
       "0.4821859903381643"
      ]
     },
     "execution_count": 123,
     "metadata": {},
     "output_type": "execute_result"
    }
   ],
   "source": [
    "#Random Forest Classifier\n",
    "clrf=RandomForestClassifier(n_estimators=100)\n",
    "clrf.fit(train_x,train_y)\n",
    "clrf.score(test_x,test_y)\n",
    "y_pred = clrf.predict(test_x)\n",
    "predictions = [round(value) for value in y_pred]\n",
    "auc_clrf = roc_auc_score(test_y, predictions)\n",
    "print(confusion_matrix(test_y, predictions))\n",
    "print(classification_report(test_y,predictions))\n",
    "print(\"Accuracy of Random Forest classifier on train set:\", clrf.score(train_x,train_y))\n",
    "print('Accuracy of Random Forest classifier on test set: {:.4f}'.format(clrf.score(test_x,test_y)*100))\n",
    "auc_clrf"
   ]
  },
  {
   "cell_type": "markdown",
   "id": "5007c4bf",
   "metadata": {},
   "source": [
    "6.XGB CLASSIFIER:-"
   ]
  },
  {
   "cell_type": "code",
   "execution_count": 124,
   "id": "412216df",
   "metadata": {},
   "outputs": [
    {
     "name": "stdout",
     "output_type": "stream",
     "text": [
      "[[42 50]\n",
      " [37 35]]\n",
      "              precision    recall  f1-score   support\n",
      "\n",
      "           0       0.53      0.46      0.49        92\n",
      "           1       0.41      0.49      0.45        72\n",
      "\n",
      "    accuracy                           0.47       164\n",
      "   macro avg       0.47      0.47      0.47       164\n",
      "weighted avg       0.48      0.47      0.47       164\n",
      "\n",
      "Accuracy of XBB classifier on train set: 0.8404907975460123\n",
      "Accuracy of XGB classifier on test set: 46.9512\n"
     ]
    },
    {
     "data": {
      "text/plain": [
       "0.471316425120773"
      ]
     },
     "execution_count": 124,
     "metadata": {},
     "output_type": "execute_result"
    }
   ],
   "source": [
    "#XGB Classifier\n",
    "xgbcl=XGBClassifier()\n",
    "xgbcl.fit(train_x,train_y)\n",
    "xgbcl.score(test_x,test_y)\n",
    "y_pred = xgbcl.predict(test_x)\n",
    "predictions = [round(value) for value in y_pred]\n",
    "auc_xgbcl = roc_auc_score(test_y, predictions)\n",
    "print(confusion_matrix(test_y, predictions))\n",
    "print(classification_report(test_y,predictions))\n",
    "print(\"Accuracy of XBB classifier on train set:\", xgbcl.score(train_x,train_y))\n",
    "print('Accuracy of XGB classifier on test set: {:.4f}'.format(xgbcl.score(test_x,test_y)*100))\n",
    "auc_xgbcl"
   ]
  },
  {
   "cell_type": "markdown",
   "id": "ee99e043",
   "metadata": {},
   "source": [
    "Let's do some hyperparameter tuning and see if we can increase our accuracy more.\n",
    "\n",
    "Hyperparameters of Random forest classifier: bootstrap=True, class_weight=None, criterion='gini', max_depth=None, max_features='auto', max_leaf_nodes=None, min_impurity_decrease=0.0, min_impurity_split=None, min_samples_leaf=1, min_samples_split=2, min_weight_fraction_leaf=0.0, n_estimators=10, n_jobs=None, oob_score=False, random_state=None, verbose=0, warm_start=False\n",
    "\n",
    "Let's now try to tune some hyperparameters using the GridSearchCV algorithm"
   ]
  },
  {
   "cell_type": "code",
   "execution_count": 125,
   "id": "0718db69",
   "metadata": {},
   "outputs": [],
   "source": [
    "# we are tuning three hyperparameters right now, we are passing the different values for both parameters\n",
    "grid_param = {\n",
    "    \"n_estimators\" : [90,100,115,130],\n",
    "    'criterion': ['gini', 'entropy'],\n",
    "    'max_depth' : range(2,20,1),\n",
    "    'min_samples_leaf' : range(1,10,1),\n",
    "    'min_samples_split': range(2,10,1),\n",
    "    'max_features' : ['auto','log2']}"
   ]
  },
  {
   "cell_type": "code",
   "execution_count": 126,
   "id": "5ef4a595",
   "metadata": {},
   "outputs": [],
   "source": [
    "grid_search = GridSearchCV(estimator=clrf,param_grid=grid_param,cv=5,n_jobs =-1,verbose = 3)\n"
   ]
  },
  {
   "cell_type": "code",
   "execution_count": 127,
   "id": "535aa06b",
   "metadata": {},
   "outputs": [],
   "source": [
    "# grid_search.fit(train_x,train_y)"
   ]
  },
  {
   "cell_type": "code",
   "execution_count": 128,
   "id": "99191ae4",
   "metadata": {},
   "outputs": [],
   "source": [
    "#let's see the best parameters as per our grid search\n",
    "# G=grid_search.best_params_\n",
    "# print(G)"
   ]
  },
  {
   "cell_type": "code",
   "execution_count": 129,
   "id": "fc1aba78",
   "metadata": {},
   "outputs": [],
   "source": [
    "rand_clf = RandomForestClassifier(criterion= 'entropy',\n",
    " max_depth = 10,\n",
    " max_features = 'auto',\n",
    " min_samples_leaf = 1,\n",
    " min_samples_split= 5,\n",
    " n_estimators = 500,random_state=6)\n"
   ]
  },
  {
   "cell_type": "code",
   "execution_count": 130,
   "id": "42047fe4",
   "metadata": {},
   "outputs": [
    {
     "data": {
      "text/html": [
       "<style>#sk-container-id-2 {color: black;background-color: white;}#sk-container-id-2 pre{padding: 0;}#sk-container-id-2 div.sk-toggleable {background-color: white;}#sk-container-id-2 label.sk-toggleable__label {cursor: pointer;display: block;width: 100%;margin-bottom: 0;padding: 0.3em;box-sizing: border-box;text-align: center;}#sk-container-id-2 label.sk-toggleable__label-arrow:before {content: \"▸\";float: left;margin-right: 0.25em;color: #696969;}#sk-container-id-2 label.sk-toggleable__label-arrow:hover:before {color: black;}#sk-container-id-2 div.sk-estimator:hover label.sk-toggleable__label-arrow:before {color: black;}#sk-container-id-2 div.sk-toggleable__content {max-height: 0;max-width: 0;overflow: hidden;text-align: left;background-color: #f0f8ff;}#sk-container-id-2 div.sk-toggleable__content pre {margin: 0.2em;color: black;border-radius: 0.25em;background-color: #f0f8ff;}#sk-container-id-2 input.sk-toggleable__control:checked~div.sk-toggleable__content {max-height: 200px;max-width: 100%;overflow: auto;}#sk-container-id-2 input.sk-toggleable__control:checked~label.sk-toggleable__label-arrow:before {content: \"▾\";}#sk-container-id-2 div.sk-estimator input.sk-toggleable__control:checked~label.sk-toggleable__label {background-color: #d4ebff;}#sk-container-id-2 div.sk-label input.sk-toggleable__control:checked~label.sk-toggleable__label {background-color: #d4ebff;}#sk-container-id-2 input.sk-hidden--visually {border: 0;clip: rect(1px 1px 1px 1px);clip: rect(1px, 1px, 1px, 1px);height: 1px;margin: -1px;overflow: hidden;padding: 0;position: absolute;width: 1px;}#sk-container-id-2 div.sk-estimator {font-family: monospace;background-color: #f0f8ff;border: 1px dotted black;border-radius: 0.25em;box-sizing: border-box;margin-bottom: 0.5em;}#sk-container-id-2 div.sk-estimator:hover {background-color: #d4ebff;}#sk-container-id-2 div.sk-parallel-item::after {content: \"\";width: 100%;border-bottom: 1px solid gray;flex-grow: 1;}#sk-container-id-2 div.sk-label:hover label.sk-toggleable__label {background-color: #d4ebff;}#sk-container-id-2 div.sk-serial::before {content: \"\";position: absolute;border-left: 1px solid gray;box-sizing: border-box;top: 0;bottom: 0;left: 50%;z-index: 0;}#sk-container-id-2 div.sk-serial {display: flex;flex-direction: column;align-items: center;background-color: white;padding-right: 0.2em;padding-left: 0.2em;position: relative;}#sk-container-id-2 div.sk-item {position: relative;z-index: 1;}#sk-container-id-2 div.sk-parallel {display: flex;align-items: stretch;justify-content: center;background-color: white;position: relative;}#sk-container-id-2 div.sk-item::before, #sk-container-id-2 div.sk-parallel-item::before {content: \"\";position: absolute;border-left: 1px solid gray;box-sizing: border-box;top: 0;bottom: 0;left: 50%;z-index: -1;}#sk-container-id-2 div.sk-parallel-item {display: flex;flex-direction: column;z-index: 1;position: relative;background-color: white;}#sk-container-id-2 div.sk-parallel-item:first-child::after {align-self: flex-end;width: 50%;}#sk-container-id-2 div.sk-parallel-item:last-child::after {align-self: flex-start;width: 50%;}#sk-container-id-2 div.sk-parallel-item:only-child::after {width: 0;}#sk-container-id-2 div.sk-dashed-wrapped {border: 1px dashed gray;margin: 0 0.4em 0.5em 0.4em;box-sizing: border-box;padding-bottom: 0.4em;background-color: white;}#sk-container-id-2 div.sk-label label {font-family: monospace;font-weight: bold;display: inline-block;line-height: 1.2em;}#sk-container-id-2 div.sk-label-container {text-align: center;}#sk-container-id-2 div.sk-container {/* jupyter's `normalize.less` sets `[hidden] { display: none; }` but bootstrap.min.css set `[hidden] { display: none !important; }` so we also need the `!important` here to be able to override the default hidden behavior on the sphinx rendered scikit-learn.org. See: https://github.com/scikit-learn/scikit-learn/issues/21755 */display: inline-block !important;position: relative;}#sk-container-id-2 div.sk-text-repr-fallback {display: none;}</style><div id=\"sk-container-id-2\" class=\"sk-top-container\"><div class=\"sk-text-repr-fallback\"><pre>RandomForestClassifier(criterion=&#x27;entropy&#x27;, max_depth=10, max_features=&#x27;auto&#x27;,\n",
       "                       min_samples_split=5, n_estimators=500, random_state=6)</pre><b>In a Jupyter environment, please rerun this cell to show the HTML representation or trust the notebook. <br />On GitHub, the HTML representation is unable to render, please try loading this page with nbviewer.org.</b></div><div class=\"sk-container\" hidden><div class=\"sk-item\"><div class=\"sk-estimator sk-toggleable\"><input class=\"sk-toggleable__control sk-hidden--visually\" id=\"sk-estimator-id-2\" type=\"checkbox\" checked><label for=\"sk-estimator-id-2\" class=\"sk-toggleable__label sk-toggleable__label-arrow\">RandomForestClassifier</label><div class=\"sk-toggleable__content\"><pre>RandomForestClassifier(criterion=&#x27;entropy&#x27;, max_depth=10, max_features=&#x27;auto&#x27;,\n",
       "                       min_samples_split=5, n_estimators=500, random_state=6)</pre></div></div></div></div></div>"
      ],
      "text/plain": [
       "RandomForestClassifier(criterion='entropy', max_depth=10, max_features='auto',\n",
       "                       min_samples_split=5, n_estimators=500, random_state=6)"
      ]
     },
     "execution_count": 130,
     "metadata": {},
     "output_type": "execute_result"
    }
   ],
   "source": [
    "rand_clf.fit(train_x,train_y)\n"
   ]
  },
  {
   "cell_type": "code",
   "execution_count": 131,
   "id": "f45718db",
   "metadata": {},
   "outputs": [],
   "source": [
    "#let's see the best parameters as per our grid search\n",
    "# grid_search = GridSearchCV(rand_clf, grid_param, cv=5)\n",
    "# grid_search.fit(train_x, train_y)\n",
    "\n",
    "# print(grid_search.best_params_)"
   ]
  },
  {
   "cell_type": "code",
   "execution_count": 132,
   "id": "ffb10192",
   "metadata": {},
   "outputs": [
    {
     "data": {
      "text/plain": [
       "0.49390243902439024"
      ]
     },
     "execution_count": 132,
     "metadata": {},
     "output_type": "execute_result"
    }
   ],
   "source": [
    "rand_clf.score(test_x,test_y)\n"
   ]
  },
  {
   "cell_type": "code",
   "execution_count": 133,
   "id": "09323a7a",
   "metadata": {},
   "outputs": [],
   "source": [
    "# testdata[testdata['team2']=='KKR']\n"
   ]
  },
  {
   "cell_type": "code",
   "execution_count": 134,
   "id": "1f0d9c76",
   "metadata": {},
   "outputs": [],
   "source": [
    "# For data from 2020 IPL\n",
    "pred = rand_clf.predict(testdata)\n",
    "# print(pred)\n",
    "testdata = testdata.replace([0,1,2,3,4,5,6,7], ['CSK', 'RCB', 'DC', 'MI', 'KKR', 'RR', 'KXIP', 'SRH'])#{0:'CSK', 1:'RCB', 2:'DC', 3:'MI',4: 'KKR', 5:'RR', 6:'KXIP', 7:'SRH'})\n",
    "#testdata['team2'] = testdata['team2'].map({'CSK':0, 'RCB':1, 'DC':2, 'MI':3, 'KKR':4, 'RR':5, 'KXIP':6, 'SRH':7})\n",
    "winner = []\n",
    "for i in range(len(pred)):\n",
    "    if pred[i] == 0:\n",
    "        winner.append(testdata['team1'][i])\n",
    "        \n",
    "    else:  \n",
    "        winner.append(testdata['team2'][i])\n",
    "    "
   ]
  },
  {
   "cell_type": "code",
   "execution_count": 135,
   "id": "4cd205cd",
   "metadata": {},
   "outputs": [
    {
     "data": {
      "text/plain": [
       "['CSK',\n",
       " 'DC',\n",
       " 'RCB',\n",
       " 'DC',\n",
       " 'RCB',\n",
       " 'MI',\n",
       " 'KKR',\n",
       " 'CSK',\n",
       " 'RCB',\n",
       " 'RR',\n",
       " 'CSK',\n",
       " 'RCB',\n",
       " 'SRH',\n",
       " 'MI',\n",
       " 'CSK',\n",
       " 'KKR',\n",
       " 'SRH',\n",
       " 'RCB',\n",
       " 'KXIP',\n",
       " 'DC',\n",
       " 'RR',\n",
       " 'CSK',\n",
       " 'RCB',\n",
       " 'DC',\n",
       " 'KXIP',\n",
       " 'RCB',\n",
       " 'MI',\n",
       " 'DC',\n",
       " 'RR',\n",
       " 'RCB',\n",
       " 'CSK',\n",
       " 'DC',\n",
       " 'RR',\n",
       " 'CSK',\n",
       " 'RCB',\n",
       " 'DC',\n",
       " 'RR',\n",
       " 'CSK',\n",
       " 'RCB',\n",
       " 'KXIP',\n",
       " 'DC',\n",
       " 'RCB',\n",
       " 'KKR',\n",
       " 'MI',\n",
       " 'RCB',\n",
       " 'CSK',\n",
       " 'KXIP',\n",
       " 'DC',\n",
       " 'CSK',\n",
       " 'DC',\n",
       " 'RCB',\n",
       " 'MI',\n",
       " 'CSK',\n",
       " 'DC',\n",
       " 'RCB',\n",
       " 'MI',\n",
       " 'KXIP',\n",
       " 'KKR',\n",
       " 'DC',\n",
       " 'RCB']"
      ]
     },
     "execution_count": 135,
     "metadata": {},
     "output_type": "execute_result"
    }
   ],
   "source": [
    "winner"
   ]
  },
  {
   "cell_type": "code",
   "execution_count": 136,
   "id": "da7e8087",
   "metadata": {},
   "outputs": [],
   "source": [
    "winner = list()\n",
    "for i in range(len(pred)):\n",
    "    if pred[i] == 0:\n",
    "        winner.append(testdata['team1'][i])\n",
    "        \n",
    "    else:\n",
    "        winner.append(testdata['team2'][i])\n",
    "\n",
    "F_Winner=[]\n",
    "for i in winner:\n",
    "    if i==0:\n",
    "        print('CSK')\n",
    "    elif i==1:\n",
    "        print('RCB')\n",
    "    elif i==2:\n",
    "        print('DC')\n",
    "    elif i==3:\n",
    "        print('MI')\n",
    "    elif i==4:\n",
    "        print('KKR')\n",
    "    elif i==5:\n",
    "        print('RR')\n",
    "    elif i==6:\n",
    "        print('KXIP') \n",
    "    elif i==7:\n",
    "        print('SRH')"
   ]
  },
  {
   "cell_type": "code",
   "execution_count": 137,
   "id": "50ef2445",
   "metadata": {},
   "outputs": [],
   "source": [
    "final_submission = {\"id\":matches_testdata.id.tolist(), \n",
    "              \"winner\":winner}\n",
    "submit = pd.DataFrame(final_submission)\n"
   ]
  },
  {
   "cell_type": "code",
   "execution_count": 138,
   "id": "fffe2b07",
   "metadata": {},
   "outputs": [],
   "source": [
    "# Converting the output to CSV file\n",
    "submit.to_csv(\"submit.csv\", index=False)"
   ]
  },
  {
   "cell_type": "code",
   "execution_count": 145,
   "id": "9170e245",
   "metadata": {},
   "outputs": [],
   "source": [
    "# import os\n",
    "# print(os.getcwd())"
   ]
  },
  {
   "cell_type": "markdown",
   "id": "ce9f8717",
   "metadata": {},
   "source": [
    "# DELIVERIES DATASET"
   ]
  },
  {
   "cell_type": "code",
   "execution_count": 160,
   "id": "4b064452",
   "metadata": {},
   "outputs": [],
   "source": [
    "deliveries=pd.read_csv(\"C:\\\\Users\\\\Preeti\\\\Downloads\\\\deliveries.csv\")"
   ]
  },
  {
   "cell_type": "markdown",
   "id": "096dbae5",
   "metadata": {},
   "source": [
    "# Data pre-processing"
   ]
  },
  {
   "cell_type": "code",
   "execution_count": 161,
   "id": "88a79dfe",
   "metadata": {},
   "outputs": [],
   "source": [
    "deliveries.drop([\"over\",\"ball\",\"non_striker\",\"is_super_over\",\"wide_runs\",\"bye_runs\",\n",
    "                 \"legbye_runs\",\"noball_runs\",\"penalty_runs\",\"extra_runs\",\n",
    "                 \"total_runs\",\"dismissal_kind\"],axis = 1,inplace = True)"
   ]
  },
  {
   "cell_type": "code",
   "execution_count": 162,
   "id": "bf93d107",
   "metadata": {},
   "outputs": [],
   "source": [
    "deliveries[\"player_dismissed\"] = deliveries[\"player_dismissed\"].fillna(0)\n",
    "deliveries[\"player_dismissed\"] = np.where(deliveries[\"player_dismissed\"] == 0 ,0,1)\n",
    "deliveries[\"catch\"] = deliveries[\"fielder\"]\n",
    "deliveries[\"catch\"] = deliveries[\"catch\"].fillna(0)\n",
    "deliveries[\"catch\"] = np.where(deliveries[\"catch\"] == 0 ,0,1)"
   ]
  },
  {
   "cell_type": "code",
   "execution_count": 163,
   "id": "6408a4a2",
   "metadata": {},
   "outputs": [],
   "source": [
    "deliveries[\"batsman_extra_score\"] = deliveries[\"batsman_runs\"]\n",
    "deliveries[\"batsman_extra_score\"] = deliveries[\"batsman_extra_score\"].replace(1,0)\n",
    "deliveries[\"batsman_extra_score\"] = deliveries[\"batsman_extra_score\"].replace(2,0)\n",
    "deliveries[\"batsman_extra_score\"] = deliveries[\"batsman_extra_score\"].replace(3,0)\n",
    "deliveries[\"batsman_extra_score\"] = deliveries[\"batsman_extra_score\"].replace(5,0)\n",
    "deliveries[\"batsman_extra_score\"] = deliveries[\"batsman_extra_score\"].replace(4,1)\n",
    "deliveries[\"batsman_extra_score\"] = deliveries[\"batsman_extra_score\"].replace(6,2)"
   ]
  },
  {
   "cell_type": "code",
   "execution_count": 164,
   "id": "4c0b7e51",
   "metadata": {},
   "outputs": [
    {
     "data": {
      "text/html": [
       "<div>\n",
       "<style scoped>\n",
       "    .dataframe tbody tr th:only-of-type {\n",
       "        vertical-align: middle;\n",
       "    }\n",
       "\n",
       "    .dataframe tbody tr th {\n",
       "        vertical-align: top;\n",
       "    }\n",
       "\n",
       "    .dataframe thead th {\n",
       "        text-align: right;\n",
       "    }\n",
       "</style>\n",
       "<table border=\"1\" class=\"dataframe\">\n",
       "  <thead>\n",
       "    <tr style=\"text-align: right;\">\n",
       "      <th></th>\n",
       "      <th>match_id</th>\n",
       "      <th>inning</th>\n",
       "      <th>batting_team</th>\n",
       "      <th>bowling_team</th>\n",
       "      <th>batsman</th>\n",
       "      <th>bowler</th>\n",
       "      <th>batsman_runs</th>\n",
       "      <th>player_dismissed</th>\n",
       "      <th>fielder</th>\n",
       "      <th>catch</th>\n",
       "      <th>batsman_extra_score</th>\n",
       "    </tr>\n",
       "  </thead>\n",
       "  <tbody>\n",
       "    <tr>\n",
       "      <th>0</th>\n",
       "      <td>1</td>\n",
       "      <td>1</td>\n",
       "      <td>Sunrisers Hyderabad</td>\n",
       "      <td>Royal Challengers Bangalore</td>\n",
       "      <td>DA Warner</td>\n",
       "      <td>TS Mills</td>\n",
       "      <td>0</td>\n",
       "      <td>0</td>\n",
       "      <td>NaN</td>\n",
       "      <td>0</td>\n",
       "      <td>0</td>\n",
       "    </tr>\n",
       "    <tr>\n",
       "      <th>1</th>\n",
       "      <td>1</td>\n",
       "      <td>1</td>\n",
       "      <td>Sunrisers Hyderabad</td>\n",
       "      <td>Royal Challengers Bangalore</td>\n",
       "      <td>DA Warner</td>\n",
       "      <td>TS Mills</td>\n",
       "      <td>0</td>\n",
       "      <td>0</td>\n",
       "      <td>NaN</td>\n",
       "      <td>0</td>\n",
       "      <td>0</td>\n",
       "    </tr>\n",
       "    <tr>\n",
       "      <th>2</th>\n",
       "      <td>1</td>\n",
       "      <td>1</td>\n",
       "      <td>Sunrisers Hyderabad</td>\n",
       "      <td>Royal Challengers Bangalore</td>\n",
       "      <td>DA Warner</td>\n",
       "      <td>TS Mills</td>\n",
       "      <td>4</td>\n",
       "      <td>0</td>\n",
       "      <td>NaN</td>\n",
       "      <td>0</td>\n",
       "      <td>1</td>\n",
       "    </tr>\n",
       "    <tr>\n",
       "      <th>3</th>\n",
       "      <td>1</td>\n",
       "      <td>1</td>\n",
       "      <td>Sunrisers Hyderabad</td>\n",
       "      <td>Royal Challengers Bangalore</td>\n",
       "      <td>DA Warner</td>\n",
       "      <td>TS Mills</td>\n",
       "      <td>0</td>\n",
       "      <td>0</td>\n",
       "      <td>NaN</td>\n",
       "      <td>0</td>\n",
       "      <td>0</td>\n",
       "    </tr>\n",
       "    <tr>\n",
       "      <th>4</th>\n",
       "      <td>1</td>\n",
       "      <td>1</td>\n",
       "      <td>Sunrisers Hyderabad</td>\n",
       "      <td>Royal Challengers Bangalore</td>\n",
       "      <td>DA Warner</td>\n",
       "      <td>TS Mills</td>\n",
       "      <td>0</td>\n",
       "      <td>0</td>\n",
       "      <td>NaN</td>\n",
       "      <td>0</td>\n",
       "      <td>0</td>\n",
       "    </tr>\n",
       "  </tbody>\n",
       "</table>\n",
       "</div>"
      ],
      "text/plain": [
       "   match_id  inning         batting_team                 bowling_team  \\\n",
       "0         1       1  Sunrisers Hyderabad  Royal Challengers Bangalore   \n",
       "1         1       1  Sunrisers Hyderabad  Royal Challengers Bangalore   \n",
       "2         1       1  Sunrisers Hyderabad  Royal Challengers Bangalore   \n",
       "3         1       1  Sunrisers Hyderabad  Royal Challengers Bangalore   \n",
       "4         1       1  Sunrisers Hyderabad  Royal Challengers Bangalore   \n",
       "\n",
       "     batsman    bowler  batsman_runs  player_dismissed fielder  catch  \\\n",
       "0  DA Warner  TS Mills             0                 0     NaN      0   \n",
       "1  DA Warner  TS Mills             0                 0     NaN      0   \n",
       "2  DA Warner  TS Mills             4                 0     NaN      0   \n",
       "3  DA Warner  TS Mills             0                 0     NaN      0   \n",
       "4  DA Warner  TS Mills             0                 0     NaN      0   \n",
       "\n",
       "   batsman_extra_score  \n",
       "0                    0  \n",
       "1                    0  \n",
       "2                    1  \n",
       "3                    0  \n",
       "4                    0  "
      ]
     },
     "execution_count": 164,
     "metadata": {},
     "output_type": "execute_result"
    }
   ],
   "source": [
    "deliveries.head()\n"
   ]
  },
  {
   "cell_type": "code",
   "execution_count": 165,
   "id": "21b87efe",
   "metadata": {},
   "outputs": [],
   "source": [
    "deliveries.replace(['Mumbai Indians','Kolkata Knight Riders','Royal Challengers Bangalore','Deccan Chargers','Chennai Super Kings',\n",
    "                 'Rajasthan Royals','Delhi Daredevils','Gujarat Lions','Kings XI Punjab','Delhi Capitals' ,\n",
    "                 'Sunrisers Hyderabad','Rising Pune Supergiants','Rising Pune Supergiant','Kochi Tuskers Kerala','Pune Warriors']\n",
    "                ,['MI','KKR','RCB','DC','CSK','RR','DD','GL','KXIP','DD','SRH','RPS','RPS','KTK','PW'],inplace=True)\n"
   ]
  },
  {
   "cell_type": "code",
   "execution_count": 166,
   "id": "d970178f",
   "metadata": {},
   "outputs": [],
   "source": [
    "batsman = deliveries.batsman.unique()\n",
    "batsman.sort()\n",
    "bowler = deliveries.bowler.unique()\n",
    "bowler.sort()\n",
    "\n",
    "corrected_batsman = []\n",
    "for b in batsman:\n",
    "    new = b[0]\n",
    "    for i in range(len(b)):\n",
    "        if b[i] == \" \":\n",
    "            new = new + b[i:]\n",
    "    corrected_batsman.append(new)\n",
    "\n",
    "corrected_bowler = []\n",
    "for b in bowler:\n",
    "    new = b[0]\n",
    "    for i in range(len(b)):\n",
    "        if b[i] == \" \":\n",
    "            new = new + b[i:]\n",
    "    corrected_bowler.append(new)\n",
    "    \n",
    "for i in range(len(batsman)):\n",
    "    deliveries[\"batsman\"] = deliveries[\"batsman\"].replace(batsman[i],corrected_batsman[i])\n",
    "\n",
    "for i in range(len(bowler)):\n",
    "    deliveries[\"bowler\"] = deliveries[\"bowler\"].replace(bowler[i],corrected_bowler[i])"
   ]
  },
  {
   "cell_type": "markdown",
   "id": "730a9181",
   "metadata": {},
   "source": [
    "# Defining function for calculating player_value"
   ]
  },
  {
   "cell_type": "code",
   "execution_count": 167,
   "id": "28f3126e",
   "metadata": {},
   "outputs": [],
   "source": [
    "def Player_value(player,match):\n",
    "    df_1 = deliveries.query(\"match_id == '%s'\"%match).query(\"batsman == '%s'\"%player)\n",
    "    score = sum(df_1[\"batsman_runs\"])\n",
    "    if score == 0:\n",
    "        score += -2\n",
    "    if score >= 50 and score < 100:\n",
    "        score += 8\n",
    "    if score >= 100:\n",
    "        score += 16\n",
    "    score += sum(df_1[\"batsman_extra_score\"])\n",
    "    \n",
    "    df_2 = deliveries.query(\"match_id == '%s'\"%match).query(\"bowler == '%s'\"%player)\n",
    "    if sum(df_2[\"player_dismissed\"]) == 4:\n",
    "        score += 8\n",
    "    if sum(df_2[\"player_dismissed\"]) >= 5:\n",
    "        score += 16\n",
    "    score += sum(df_2[\"player_dismissed\"])*25\n",
    "    \n",
    "    df_3 = deliveries.query(\"match_id == '%s'\"%match).query(\"fielder == '%s'\"%player)\n",
    "    score += sum(df_3[\"catch\"])*8\n",
    "    \n",
    "    if df_1.shape[0] == 0 and df_2.shape[0] == 0 and df_3.shape[0] == 0:\n",
    "        return 0\n",
    "    \n",
    "    return score"
   ]
  },
  {
   "cell_type": "markdown",
   "id": "ab300b39",
   "metadata": {},
   "source": [
    "# Creating Dataset for teams' scores"
   ]
  },
  {
   "cell_type": "code",
   "execution_count": 168,
   "id": "dbb8b93d",
   "metadata": {},
   "outputs": [],
   "source": [
    "match_id = deliveries.match_id.unique()\n",
    "\n",
    "Scores = pd.DataFrame(columns = [\"id\",\"team1_bats_score\",\"team1_bowl_score\",\"team2_bats_score\",\"team2_bowl_score\"])\n",
    "\n",
    "for i in match_id:\n",
    "    bowler_1 = deliveries.query(\"match_id == '%s'\"%i).query(\"inning == 2\").bowler.unique()\n",
    "    bowler_2 = deliveries.query(\"match_id == '%s'\"%i).query(\"inning == 1\").bowler.unique()\n",
    "    bats_1 = deliveries.query(\"match_id == '%s'\"%i).query(\"inning == 1\").batsman.unique()\n",
    "    bats_2 = deliveries.query(\"match_id == '%s'\"%i).query(\"inning == 2\").batsman.unique()\n",
    "    \n",
    "    team1_bowl_score = 0\n",
    "    team2_bowl_score = 0\n",
    "    team1_bats_score = 0\n",
    "    team2_bats_score = 0\n",
    "    \n",
    "    for p in bowler_1:\n",
    "        team1_bowl_score += Player_value(p,i)\n",
    "        \n",
    "    for p in bowler_2:\n",
    "        team2_bowl_score += Player_value(p,i)\n",
    "    \n",
    "    for p in bats_1:\n",
    "        team1_bats_score += Player_value(p,i)\n",
    "        \n",
    "    for p in bats_2:\n",
    "        team2_bats_score += Player_value(p,i)\n",
    "        \n",
    "    Scores = Scores.append({\"id\":i,\"team1_bats_score\":team1_bats_score,\n",
    "                            \"team1_bowl_score\":team1_bowl_score,\n",
    "                            \"team2_bats_score\":team2_bats_score,\n",
    "                            \"team2_bowl_score\":team2_bowl_score},  ignore_index = True)\n",
    "    "
   ]
  },
  {
   "cell_type": "code",
   "execution_count": 169,
   "id": "3f239e15",
   "metadata": {},
   "outputs": [
    {
     "data": {
      "text/html": [
       "<div>\n",
       "<style scoped>\n",
       "    .dataframe tbody tr th:only-of-type {\n",
       "        vertical-align: middle;\n",
       "    }\n",
       "\n",
       "    .dataframe tbody tr th {\n",
       "        vertical-align: top;\n",
       "    }\n",
       "\n",
       "    .dataframe thead th {\n",
       "        text-align: right;\n",
       "    }\n",
       "</style>\n",
       "<table border=\"1\" class=\"dataframe\">\n",
       "  <thead>\n",
       "    <tr style=\"text-align: right;\">\n",
       "      <th></th>\n",
       "      <th>id</th>\n",
       "      <th>team1_bats_score</th>\n",
       "      <th>team1_bowl_score</th>\n",
       "      <th>team2_bats_score</th>\n",
       "      <th>team2_bowl_score</th>\n",
       "    </tr>\n",
       "  </thead>\n",
       "  <tbody>\n",
       "    <tr>\n",
       "      <th>0</th>\n",
       "      <td>1</td>\n",
       "      <td>0</td>\n",
       "      <td>0</td>\n",
       "      <td>0</td>\n",
       "      <td>0</td>\n",
       "    </tr>\n",
       "    <tr>\n",
       "      <th>1</th>\n",
       "      <td>2</td>\n",
       "      <td>0</td>\n",
       "      <td>0</td>\n",
       "      <td>0</td>\n",
       "      <td>0</td>\n",
       "    </tr>\n",
       "  </tbody>\n",
       "</table>\n",
       "</div>"
      ],
      "text/plain": [
       "  id team1_bats_score team1_bowl_score team2_bats_score team2_bowl_score\n",
       "0  1                0                0                0                0\n",
       "1  2                0                0                0                0"
      ]
     },
     "execution_count": 169,
     "metadata": {},
     "output_type": "execute_result"
    }
   ],
   "source": [
    "Scores.head(2)\n"
   ]
  },
  {
   "cell_type": "code",
   "execution_count": null,
   "id": "1f3bdc60",
   "metadata": {},
   "outputs": [],
   "source": []
  }
 ],
 "metadata": {
  "kernelspec": {
   "display_name": "Python 3 (ipykernel)",
   "language": "python",
   "name": "python3"
  },
  "language_info": {
   "codemirror_mode": {
    "name": "ipython",
    "version": 3
   },
   "file_extension": ".py",
   "mimetype": "text/x-python",
   "name": "python",
   "nbconvert_exporter": "python",
   "pygments_lexer": "ipython3",
   "version": "3.10.9"
  }
 },
 "nbformat": 4,
 "nbformat_minor": 5
}
